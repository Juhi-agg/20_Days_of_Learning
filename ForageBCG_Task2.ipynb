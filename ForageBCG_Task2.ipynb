{
 "cells": [
  {
   "cell_type": "markdown",
   "id": "e7152b23",
   "metadata": {},
   "source": [
    "### Loading and combining data"
   ]
  },
  {
   "cell_type": "code",
   "execution_count": 1,
   "id": "66ba4331",
   "metadata": {},
   "outputs": [],
   "source": [
    "#importing libraries\n",
    "\n",
    "import numpy as np\n",
    "import matplotlib.pyplot as plt\n",
    "import pandas as pd\n",
    "import seaborn as sns"
   ]
  },
  {
   "cell_type": "code",
   "execution_count": 2,
   "id": "c1fd6d79",
   "metadata": {},
   "outputs": [],
   "source": [
    "#reading the files as dataframes\n",
    "\n",
    "df1 = pd.read_csv('ml_case_training_data.csv')\n",
    "df2 = pd.read_csv('ml_case_training_hist_data.csv')\n",
    "df3 = pd.read_csv('ml_case_training_output.csv')"
   ]
  },
  {
   "cell_type": "code",
   "execution_count": 3,
   "id": "15b44cd5",
   "metadata": {},
   "outputs": [
    {
     "data": {
      "text/html": [
       "<div>\n",
       "<style scoped>\n",
       "    .dataframe tbody tr th:only-of-type {\n",
       "        vertical-align: middle;\n",
       "    }\n",
       "\n",
       "    .dataframe tbody tr th {\n",
       "        vertical-align: top;\n",
       "    }\n",
       "\n",
       "    .dataframe thead th {\n",
       "        text-align: right;\n",
       "    }\n",
       "</style>\n",
       "<table border=\"1\" class=\"dataframe\">\n",
       "  <thead>\n",
       "    <tr style=\"text-align: right;\">\n",
       "      <th></th>\n",
       "      <th>Missing Value (%)</th>\n",
       "    </tr>\n",
       "  </thead>\n",
       "  <tbody>\n",
       "    <tr>\n",
       "      <th>id</th>\n",
       "      <td>0.000000</td>\n",
       "    </tr>\n",
       "    <tr>\n",
       "      <th>activity_new</th>\n",
       "      <td>59.300447</td>\n",
       "    </tr>\n",
       "    <tr>\n",
       "      <th>campaign_disc_ele</th>\n",
       "      <td>100.000000</td>\n",
       "    </tr>\n",
       "    <tr>\n",
       "      <th>channel_sales</th>\n",
       "      <td>26.205268</td>\n",
       "    </tr>\n",
       "    <tr>\n",
       "      <th>cons_12m</th>\n",
       "      <td>0.000000</td>\n",
       "    </tr>\n",
       "    <tr>\n",
       "      <th>cons_gas_12m</th>\n",
       "      <td>0.000000</td>\n",
       "    </tr>\n",
       "    <tr>\n",
       "      <th>cons_last_month</th>\n",
       "      <td>0.000000</td>\n",
       "    </tr>\n",
       "    <tr>\n",
       "      <th>date_activ</th>\n",
       "      <td>0.000000</td>\n",
       "    </tr>\n",
       "    <tr>\n",
       "      <th>date_end</th>\n",
       "      <td>0.012425</td>\n",
       "    </tr>\n",
       "    <tr>\n",
       "      <th>date_first_activ</th>\n",
       "      <td>78.205765</td>\n",
       "    </tr>\n",
       "    <tr>\n",
       "      <th>date_modif_prod</th>\n",
       "      <td>0.975398</td>\n",
       "    </tr>\n",
       "    <tr>\n",
       "      <th>date_renewal</th>\n",
       "      <td>0.248509</td>\n",
       "    </tr>\n",
       "    <tr>\n",
       "      <th>forecast_base_bill_ele</th>\n",
       "      <td>78.205765</td>\n",
       "    </tr>\n",
       "    <tr>\n",
       "      <th>forecast_base_bill_year</th>\n",
       "      <td>78.205765</td>\n",
       "    </tr>\n",
       "    <tr>\n",
       "      <th>forecast_bill_12m</th>\n",
       "      <td>78.205765</td>\n",
       "    </tr>\n",
       "    <tr>\n",
       "      <th>forecast_cons</th>\n",
       "      <td>78.205765</td>\n",
       "    </tr>\n",
       "    <tr>\n",
       "      <th>forecast_cons_12m</th>\n",
       "      <td>0.000000</td>\n",
       "    </tr>\n",
       "    <tr>\n",
       "      <th>forecast_cons_year</th>\n",
       "      <td>0.000000</td>\n",
       "    </tr>\n",
       "    <tr>\n",
       "      <th>forecast_discount_energy</th>\n",
       "      <td>0.782803</td>\n",
       "    </tr>\n",
       "    <tr>\n",
       "      <th>forecast_meter_rent_12m</th>\n",
       "      <td>0.000000</td>\n",
       "    </tr>\n",
       "    <tr>\n",
       "      <th>forecast_price_energy_p1</th>\n",
       "      <td>0.782803</td>\n",
       "    </tr>\n",
       "    <tr>\n",
       "      <th>forecast_price_energy_p2</th>\n",
       "      <td>0.782803</td>\n",
       "    </tr>\n",
       "    <tr>\n",
       "      <th>forecast_price_pow_p1</th>\n",
       "      <td>0.782803</td>\n",
       "    </tr>\n",
       "    <tr>\n",
       "      <th>has_gas</th>\n",
       "      <td>0.000000</td>\n",
       "    </tr>\n",
       "    <tr>\n",
       "      <th>imp_cons</th>\n",
       "      <td>0.000000</td>\n",
       "    </tr>\n",
       "    <tr>\n",
       "      <th>margin_gross_pow_ele</th>\n",
       "      <td>0.080765</td>\n",
       "    </tr>\n",
       "    <tr>\n",
       "      <th>margin_net_pow_ele</th>\n",
       "      <td>0.080765</td>\n",
       "    </tr>\n",
       "    <tr>\n",
       "      <th>nb_prod_act</th>\n",
       "      <td>0.000000</td>\n",
       "    </tr>\n",
       "    <tr>\n",
       "      <th>net_margin</th>\n",
       "      <td>0.093191</td>\n",
       "    </tr>\n",
       "    <tr>\n",
       "      <th>num_years_antig</th>\n",
       "      <td>0.000000</td>\n",
       "    </tr>\n",
       "    <tr>\n",
       "      <th>origin_up</th>\n",
       "      <td>0.540507</td>\n",
       "    </tr>\n",
       "    <tr>\n",
       "      <th>pow_max</th>\n",
       "      <td>0.018638</td>\n",
       "    </tr>\n",
       "  </tbody>\n",
       "</table>\n",
       "</div>"
      ],
      "text/plain": [
       "                          Missing Value (%) \n",
       "id                                  0.000000\n",
       "activity_new                       59.300447\n",
       "campaign_disc_ele                 100.000000\n",
       "channel_sales                      26.205268\n",
       "cons_12m                            0.000000\n",
       "cons_gas_12m                        0.000000\n",
       "cons_last_month                     0.000000\n",
       "date_activ                          0.000000\n",
       "date_end                            0.012425\n",
       "date_first_activ                   78.205765\n",
       "date_modif_prod                     0.975398\n",
       "date_renewal                        0.248509\n",
       "forecast_base_bill_ele             78.205765\n",
       "forecast_base_bill_year            78.205765\n",
       "forecast_bill_12m                  78.205765\n",
       "forecast_cons                      78.205765\n",
       "forecast_cons_12m                   0.000000\n",
       "forecast_cons_year                  0.000000\n",
       "forecast_discount_energy            0.782803\n",
       "forecast_meter_rent_12m             0.000000\n",
       "forecast_price_energy_p1            0.782803\n",
       "forecast_price_energy_p2            0.782803\n",
       "forecast_price_pow_p1               0.782803\n",
       "has_gas                             0.000000\n",
       "imp_cons                            0.000000\n",
       "margin_gross_pow_ele                0.080765\n",
       "margin_net_pow_ele                  0.080765\n",
       "nb_prod_act                         0.000000\n",
       "net_margin                          0.093191\n",
       "num_years_antig                     0.000000\n",
       "origin_up                           0.540507\n",
       "pow_max                             0.018638"
      ]
     },
     "execution_count": 3,
     "metadata": {},
     "output_type": "execute_result"
    }
   ],
   "source": [
    "pd.DataFrame({\"Missing Value (%) \":df1.isnull().sum()/len(df1.index)*100})"
   ]
  },
  {
   "cell_type": "code",
   "execution_count": 4,
   "id": "4ef2b5ea",
   "metadata": {},
   "outputs": [],
   "source": [
    "for i in df1.columns:\n",
    "    if (df1[i].isnull().sum()/len(df1.index)*100) > 75:\n",
    "        del df1[i]6"
   ]
  },
  {
   "cell_type": "code",
   "execution_count": 5,
   "id": "6dbb478b",
   "metadata": {},
   "outputs": [
    {
     "data": {
      "text/html": [
       "<div>\n",
       "<style scoped>\n",
       "    .dataframe tbody tr th:only-of-type {\n",
       "        vertical-align: middle;\n",
       "    }\n",
       "\n",
       "    .dataframe tbody tr th {\n",
       "        vertical-align: top;\n",
       "    }\n",
       "\n",
       "    .dataframe thead th {\n",
       "        text-align: right;\n",
       "    }\n",
       "</style>\n",
       "<table border=\"1\" class=\"dataframe\">\n",
       "  <thead>\n",
       "    <tr style=\"text-align: right;\">\n",
       "      <th></th>\n",
       "      <th>cons_12m</th>\n",
       "      <th>cons_gas_12m</th>\n",
       "      <th>cons_last_month</th>\n",
       "      <th>forecast_cons_12m</th>\n",
       "      <th>forecast_cons_year</th>\n",
       "      <th>forecast_discount_energy</th>\n",
       "      <th>forecast_meter_rent_12m</th>\n",
       "      <th>forecast_price_energy_p1</th>\n",
       "      <th>forecast_price_energy_p2</th>\n",
       "      <th>forecast_price_pow_p1</th>\n",
       "      <th>imp_cons</th>\n",
       "      <th>margin_gross_pow_ele</th>\n",
       "      <th>margin_net_pow_ele</th>\n",
       "      <th>nb_prod_act</th>\n",
       "      <th>net_margin</th>\n",
       "      <th>num_years_antig</th>\n",
       "      <th>pow_max</th>\n",
       "    </tr>\n",
       "  </thead>\n",
       "  <tbody>\n",
       "    <tr>\n",
       "      <th>count</th>\n",
       "      <td>1.609600e+04</td>\n",
       "      <td>1.609600e+04</td>\n",
       "      <td>1.609600e+04</td>\n",
       "      <td>16096.000000</td>\n",
       "      <td>16096.000000</td>\n",
       "      <td>15970.000000</td>\n",
       "      <td>16096.000000</td>\n",
       "      <td>15970.000000</td>\n",
       "      <td>15970.000000</td>\n",
       "      <td>15970.000000</td>\n",
       "      <td>16096.000000</td>\n",
       "      <td>16083.000000</td>\n",
       "      <td>16083.000000</td>\n",
       "      <td>16096.000000</td>\n",
       "      <td>16081.000000</td>\n",
       "      <td>16096.000000</td>\n",
       "      <td>16093.000000</td>\n",
       "    </tr>\n",
       "    <tr>\n",
       "      <th>mean</th>\n",
       "      <td>1.948044e+05</td>\n",
       "      <td>3.191164e+04</td>\n",
       "      <td>1.946154e+04</td>\n",
       "      <td>2370.555949</td>\n",
       "      <td>1907.347229</td>\n",
       "      <td>0.991547</td>\n",
       "      <td>70.309945</td>\n",
       "      <td>0.135901</td>\n",
       "      <td>0.052951</td>\n",
       "      <td>43.533496</td>\n",
       "      <td>196.123447</td>\n",
       "      <td>22.462276</td>\n",
       "      <td>21.460318</td>\n",
       "      <td>1.347788</td>\n",
       "      <td>217.987028</td>\n",
       "      <td>5.030629</td>\n",
       "      <td>20.604131</td>\n",
       "    </tr>\n",
       "    <tr>\n",
       "      <th>std</th>\n",
       "      <td>6.795151e+05</td>\n",
       "      <td>1.775885e+05</td>\n",
       "      <td>8.235676e+04</td>\n",
       "      <td>4035.085664</td>\n",
       "      <td>5257.364759</td>\n",
       "      <td>5.160969</td>\n",
       "      <td>79.023251</td>\n",
       "      <td>0.026252</td>\n",
       "      <td>0.048617</td>\n",
       "      <td>5.212252</td>\n",
       "      <td>494.366979</td>\n",
       "      <td>23.700883</td>\n",
       "      <td>27.917349</td>\n",
       "      <td>1.459808</td>\n",
       "      <td>366.742030</td>\n",
       "      <td>1.676101</td>\n",
       "      <td>21.772421</td>\n",
       "    </tr>\n",
       "    <tr>\n",
       "      <th>min</th>\n",
       "      <td>-1.252760e+05</td>\n",
       "      <td>-3.037000e+03</td>\n",
       "      <td>-9.138600e+04</td>\n",
       "      <td>-16689.260000</td>\n",
       "      <td>-85627.000000</td>\n",
       "      <td>0.000000</td>\n",
       "      <td>-242.960000</td>\n",
       "      <td>0.000000</td>\n",
       "      <td>0.000000</td>\n",
       "      <td>-0.122184</td>\n",
       "      <td>-9038.210000</td>\n",
       "      <td>-525.540000</td>\n",
       "      <td>-615.660000</td>\n",
       "      <td>1.000000</td>\n",
       "      <td>-4148.990000</td>\n",
       "      <td>1.000000</td>\n",
       "      <td>1.000000</td>\n",
       "    </tr>\n",
       "    <tr>\n",
       "      <th>25%</th>\n",
       "      <td>5.906250e+03</td>\n",
       "      <td>0.000000e+00</td>\n",
       "      <td>0.000000e+00</td>\n",
       "      <td>513.230000</td>\n",
       "      <td>0.000000</td>\n",
       "      <td>0.000000</td>\n",
       "      <td>16.230000</td>\n",
       "      <td>0.115237</td>\n",
       "      <td>0.000000</td>\n",
       "      <td>40.606701</td>\n",
       "      <td>0.000000</td>\n",
       "      <td>11.960000</td>\n",
       "      <td>11.950000</td>\n",
       "      <td>1.000000</td>\n",
       "      <td>51.970000</td>\n",
       "      <td>4.000000</td>\n",
       "      <td>12.500000</td>\n",
       "    </tr>\n",
       "    <tr>\n",
       "      <th>50%</th>\n",
       "      <td>1.533250e+04</td>\n",
       "      <td>0.000000e+00</td>\n",
       "      <td>9.010000e+02</td>\n",
       "      <td>1179.160000</td>\n",
       "      <td>378.000000</td>\n",
       "      <td>0.000000</td>\n",
       "      <td>19.440000</td>\n",
       "      <td>0.142881</td>\n",
       "      <td>0.086163</td>\n",
       "      <td>44.311378</td>\n",
       "      <td>44.465000</td>\n",
       "      <td>21.090000</td>\n",
       "      <td>20.970000</td>\n",
       "      <td>1.000000</td>\n",
       "      <td>119.680000</td>\n",
       "      <td>5.000000</td>\n",
       "      <td>13.856000</td>\n",
       "    </tr>\n",
       "    <tr>\n",
       "      <th>75%</th>\n",
       "      <td>5.022150e+04</td>\n",
       "      <td>0.000000e+00</td>\n",
       "      <td>4.127000e+03</td>\n",
       "      <td>2692.077500</td>\n",
       "      <td>1994.250000</td>\n",
       "      <td>0.000000</td>\n",
       "      <td>131.470000</td>\n",
       "      <td>0.146348</td>\n",
       "      <td>0.098837</td>\n",
       "      <td>44.311378</td>\n",
       "      <td>218.090000</td>\n",
       "      <td>29.640000</td>\n",
       "      <td>29.640000</td>\n",
       "      <td>1.000000</td>\n",
       "      <td>275.810000</td>\n",
       "      <td>6.000000</td>\n",
       "      <td>19.800000</td>\n",
       "    </tr>\n",
       "    <tr>\n",
       "      <th>max</th>\n",
       "      <td>1.609711e+07</td>\n",
       "      <td>4.188440e+06</td>\n",
       "      <td>4.538720e+06</td>\n",
       "      <td>103801.930000</td>\n",
       "      <td>175375.000000</td>\n",
       "      <td>50.000000</td>\n",
       "      <td>2411.690000</td>\n",
       "      <td>0.273963</td>\n",
       "      <td>0.195975</td>\n",
       "      <td>59.444710</td>\n",
       "      <td>15042.790000</td>\n",
       "      <td>374.640000</td>\n",
       "      <td>374.640000</td>\n",
       "      <td>32.000000</td>\n",
       "      <td>24570.650000</td>\n",
       "      <td>16.000000</td>\n",
       "      <td>500.000000</td>\n",
       "    </tr>\n",
       "  </tbody>\n",
       "</table>\n",
       "</div>"
      ],
      "text/plain": [
       "           cons_12m  cons_gas_12m  cons_last_month  forecast_cons_12m  \\\n",
       "count  1.609600e+04  1.609600e+04     1.609600e+04       16096.000000   \n",
       "mean   1.948044e+05  3.191164e+04     1.946154e+04        2370.555949   \n",
       "std    6.795151e+05  1.775885e+05     8.235676e+04        4035.085664   \n",
       "min   -1.252760e+05 -3.037000e+03    -9.138600e+04      -16689.260000   \n",
       "25%    5.906250e+03  0.000000e+00     0.000000e+00         513.230000   \n",
       "50%    1.533250e+04  0.000000e+00     9.010000e+02        1179.160000   \n",
       "75%    5.022150e+04  0.000000e+00     4.127000e+03        2692.077500   \n",
       "max    1.609711e+07  4.188440e+06     4.538720e+06      103801.930000   \n",
       "\n",
       "       forecast_cons_year  forecast_discount_energy  forecast_meter_rent_12m  \\\n",
       "count        16096.000000              15970.000000             16096.000000   \n",
       "mean          1907.347229                  0.991547                70.309945   \n",
       "std           5257.364759                  5.160969                79.023251   \n",
       "min         -85627.000000                  0.000000              -242.960000   \n",
       "25%              0.000000                  0.000000                16.230000   \n",
       "50%            378.000000                  0.000000                19.440000   \n",
       "75%           1994.250000                  0.000000               131.470000   \n",
       "max         175375.000000                 50.000000              2411.690000   \n",
       "\n",
       "       forecast_price_energy_p1  forecast_price_energy_p2  \\\n",
       "count              15970.000000              15970.000000   \n",
       "mean                   0.135901                  0.052951   \n",
       "std                    0.026252                  0.048617   \n",
       "min                    0.000000                  0.000000   \n",
       "25%                    0.115237                  0.000000   \n",
       "50%                    0.142881                  0.086163   \n",
       "75%                    0.146348                  0.098837   \n",
       "max                    0.273963                  0.195975   \n",
       "\n",
       "       forecast_price_pow_p1      imp_cons  margin_gross_pow_ele  \\\n",
       "count           15970.000000  16096.000000          16083.000000   \n",
       "mean               43.533496    196.123447             22.462276   \n",
       "std                 5.212252    494.366979             23.700883   \n",
       "min                -0.122184  -9038.210000           -525.540000   \n",
       "25%                40.606701      0.000000             11.960000   \n",
       "50%                44.311378     44.465000             21.090000   \n",
       "75%                44.311378    218.090000             29.640000   \n",
       "max                59.444710  15042.790000            374.640000   \n",
       "\n",
       "       margin_net_pow_ele   nb_prod_act    net_margin  num_years_antig  \\\n",
       "count        16083.000000  16096.000000  16081.000000     16096.000000   \n",
       "mean            21.460318      1.347788    217.987028         5.030629   \n",
       "std             27.917349      1.459808    366.742030         1.676101   \n",
       "min           -615.660000      1.000000  -4148.990000         1.000000   \n",
       "25%             11.950000      1.000000     51.970000         4.000000   \n",
       "50%             20.970000      1.000000    119.680000         5.000000   \n",
       "75%             29.640000      1.000000    275.810000         6.000000   \n",
       "max            374.640000     32.000000  24570.650000        16.000000   \n",
       "\n",
       "            pow_max  \n",
       "count  16093.000000  \n",
       "mean      20.604131  \n",
       "std       21.772421  \n",
       "min        1.000000  \n",
       "25%       12.500000  \n",
       "50%       13.856000  \n",
       "75%       19.800000  \n",
       "max      500.000000  "
      ]
     },
     "execution_count": 5,
     "metadata": {},
     "output_type": "execute_result"
    }
   ],
   "source": [
    "df1.describe()"
   ]
  },
  {
   "cell_type": "code",
   "execution_count": 6,
   "id": "6862a82f",
   "metadata": {},
   "outputs": [
    {
     "data": {
      "text/plain": [
       "id                           object\n",
       "activity_new                 object\n",
       "channel_sales                object\n",
       "cons_12m                      int64\n",
       "cons_gas_12m                  int64\n",
       "cons_last_month               int64\n",
       "date_activ                   object\n",
       "date_end                     object\n",
       "date_modif_prod              object\n",
       "date_renewal                 object\n",
       "forecast_cons_12m           float64\n",
       "forecast_cons_year            int64\n",
       "forecast_discount_energy    float64\n",
       "forecast_meter_rent_12m     float64\n",
       "forecast_price_energy_p1    float64\n",
       "forecast_price_energy_p2    float64\n",
       "forecast_price_pow_p1       float64\n",
       "has_gas                      object\n",
       "imp_cons                    float64\n",
       "margin_gross_pow_ele        float64\n",
       "margin_net_pow_ele          float64\n",
       "nb_prod_act                   int64\n",
       "net_margin                  float64\n",
       "num_years_antig               int64\n",
       "origin_up                    object\n",
       "pow_max                     float64\n",
       "dtype: object"
      ]
     },
     "execution_count": 6,
     "metadata": {},
     "output_type": "execute_result"
    }
   ],
   "source": [
    "df1.dtypes"
   ]
  },
  {
   "cell_type": "code",
   "execution_count": 7,
   "id": "f863e27a",
   "metadata": {
    "scrolled": true
   },
   "outputs": [
    {
     "data": {
      "text/html": [
       "<div>\n",
       "<style scoped>\n",
       "    .dataframe tbody tr th:only-of-type {\n",
       "        vertical-align: middle;\n",
       "    }\n",
       "\n",
       "    .dataframe tbody tr th {\n",
       "        vertical-align: top;\n",
       "    }\n",
       "\n",
       "    .dataframe thead th {\n",
       "        text-align: right;\n",
       "    }\n",
       "</style>\n",
       "<table border=\"1\" class=\"dataframe\">\n",
       "  <thead>\n",
       "    <tr style=\"text-align: right;\">\n",
       "      <th></th>\n",
       "      <th>churn</th>\n",
       "    </tr>\n",
       "  </thead>\n",
       "  <tbody>\n",
       "    <tr>\n",
       "      <th>count</th>\n",
       "      <td>16096.000000</td>\n",
       "    </tr>\n",
       "    <tr>\n",
       "      <th>mean</th>\n",
       "      <td>0.099093</td>\n",
       "    </tr>\n",
       "    <tr>\n",
       "      <th>std</th>\n",
       "      <td>0.298796</td>\n",
       "    </tr>\n",
       "    <tr>\n",
       "      <th>min</th>\n",
       "      <td>0.000000</td>\n",
       "    </tr>\n",
       "    <tr>\n",
       "      <th>25%</th>\n",
       "      <td>0.000000</td>\n",
       "    </tr>\n",
       "    <tr>\n",
       "      <th>50%</th>\n",
       "      <td>0.000000</td>\n",
       "    </tr>\n",
       "    <tr>\n",
       "      <th>75%</th>\n",
       "      <td>0.000000</td>\n",
       "    </tr>\n",
       "    <tr>\n",
       "      <th>max</th>\n",
       "      <td>1.000000</td>\n",
       "    </tr>\n",
       "  </tbody>\n",
       "</table>\n",
       "</div>"
      ],
      "text/plain": [
       "              churn\n",
       "count  16096.000000\n",
       "mean       0.099093\n",
       "std        0.298796\n",
       "min        0.000000\n",
       "25%        0.000000\n",
       "50%        0.000000\n",
       "75%        0.000000\n",
       "max        1.000000"
      ]
     },
     "execution_count": 7,
     "metadata": {},
     "output_type": "execute_result"
    }
   ],
   "source": [
    "df3.describe()"
   ]
  },
  {
   "cell_type": "code",
   "execution_count": 8,
   "id": "7111d1ce",
   "metadata": {},
   "outputs": [
    {
     "data": {
      "text/html": [
       "<div>\n",
       "<style scoped>\n",
       "    .dataframe tbody tr th:only-of-type {\n",
       "        vertical-align: middle;\n",
       "    }\n",
       "\n",
       "    .dataframe tbody tr th {\n",
       "        vertical-align: top;\n",
       "    }\n",
       "\n",
       "    .dataframe thead th {\n",
       "        text-align: right;\n",
       "    }\n",
       "</style>\n",
       "<table border=\"1\" class=\"dataframe\">\n",
       "  <thead>\n",
       "    <tr style=\"text-align: right;\">\n",
       "      <th></th>\n",
       "      <th>Missing Value (%)</th>\n",
       "    </tr>\n",
       "  </thead>\n",
       "  <tbody>\n",
       "    <tr>\n",
       "      <th>id</th>\n",
       "      <td>0.0</td>\n",
       "    </tr>\n",
       "    <tr>\n",
       "      <th>churn</th>\n",
       "      <td>0.0</td>\n",
       "    </tr>\n",
       "  </tbody>\n",
       "</table>\n",
       "</div>"
      ],
      "text/plain": [
       "       Missing Value (%) \n",
       "id                    0.0\n",
       "churn                 0.0"
      ]
     },
     "execution_count": 8,
     "metadata": {},
     "output_type": "execute_result"
    }
   ],
   "source": [
    "pd.DataFrame({\"Missing Value (%) \":df3.isnull().sum()/len(df3.index)*100})"
   ]
  },
  {
   "cell_type": "code",
   "execution_count": 9,
   "id": "4ac9ceb1",
   "metadata": {
    "scrolled": true
   },
   "outputs": [
    {
     "data": {
      "text/html": [
       "<div>\n",
       "<style scoped>\n",
       "    .dataframe tbody tr th:only-of-type {\n",
       "        vertical-align: middle;\n",
       "    }\n",
       "\n",
       "    .dataframe tbody tr th {\n",
       "        vertical-align: top;\n",
       "    }\n",
       "\n",
       "    .dataframe thead th {\n",
       "        text-align: right;\n",
       "    }\n",
       "</style>\n",
       "<table border=\"1\" class=\"dataframe\">\n",
       "  <thead>\n",
       "    <tr style=\"text-align: right;\">\n",
       "      <th></th>\n",
       "      <th>Missing Value (%)</th>\n",
       "    </tr>\n",
       "  </thead>\n",
       "  <tbody>\n",
       "    <tr>\n",
       "      <th>id</th>\n",
       "      <td>0.000000</td>\n",
       "    </tr>\n",
       "    <tr>\n",
       "      <th>price_date</th>\n",
       "      <td>0.000000</td>\n",
       "    </tr>\n",
       "    <tr>\n",
       "      <th>price_p1_var</th>\n",
       "      <td>0.704138</td>\n",
       "    </tr>\n",
       "    <tr>\n",
       "      <th>price_p2_var</th>\n",
       "      <td>0.704138</td>\n",
       "    </tr>\n",
       "    <tr>\n",
       "      <th>price_p3_var</th>\n",
       "      <td>0.704138</td>\n",
       "    </tr>\n",
       "    <tr>\n",
       "      <th>price_p1_fix</th>\n",
       "      <td>0.704138</td>\n",
       "    </tr>\n",
       "    <tr>\n",
       "      <th>price_p2_fix</th>\n",
       "      <td>0.704138</td>\n",
       "    </tr>\n",
       "    <tr>\n",
       "      <th>price_p3_fix</th>\n",
       "      <td>0.704138</td>\n",
       "    </tr>\n",
       "  </tbody>\n",
       "</table>\n",
       "</div>"
      ],
      "text/plain": [
       "              Missing Value (%) \n",
       "id                      0.000000\n",
       "price_date              0.000000\n",
       "price_p1_var            0.704138\n",
       "price_p2_var            0.704138\n",
       "price_p3_var            0.704138\n",
       "price_p1_fix            0.704138\n",
       "price_p2_fix            0.704138\n",
       "price_p3_fix            0.704138"
      ]
     },
     "execution_count": 9,
     "metadata": {},
     "output_type": "execute_result"
    }
   ],
   "source": [
    "pd.DataFrame({\"Missing Value (%) \":df2.isnull().sum()/len(df2.index)*100})"
   ]
  },
  {
   "cell_type": "code",
   "execution_count": 10,
   "id": "7344a727",
   "metadata": {
    "scrolled": true
   },
   "outputs": [
    {
     "data": {
      "text/plain": [
       "Index(['id', 'activity_new', 'channel_sales', 'cons_12m', 'cons_gas_12m',\n",
       "       'cons_last_month', 'date_activ', 'date_end', 'date_modif_prod',\n",
       "       'date_renewal', 'forecast_cons_12m', 'forecast_cons_year',\n",
       "       'forecast_discount_energy', 'forecast_meter_rent_12m',\n",
       "       'forecast_price_energy_p1', 'forecast_price_energy_p2',\n",
       "       'forecast_price_pow_p1', 'has_gas', 'imp_cons', 'margin_gross_pow_ele',\n",
       "       'margin_net_pow_ele', 'nb_prod_act', 'net_margin', 'num_years_antig',\n",
       "       'origin_up', 'pow_max'],\n",
       "      dtype='object')"
      ]
     },
     "execution_count": 10,
     "metadata": {},
     "output_type": "execute_result"
    }
   ],
   "source": [
    "df1.columns"
   ]
  },
  {
   "cell_type": "code",
   "execution_count": 11,
   "id": "48f26a46",
   "metadata": {},
   "outputs": [],
   "source": [
    "#past consumption data\n",
    "\n",
    "p_cons = df1[['id','cons_12m', 'cons_gas_12m',\n",
    "       'cons_last_month', 'has_gas', 'imp_cons']]"
   ]
  },
  {
   "cell_type": "markdown",
   "id": "d70479e8",
   "metadata": {},
   "source": [
    "### Connecting SQL"
   ]
  },
  {
   "cell_type": "code",
   "execution_count": 12,
   "id": "453f78f6",
   "metadata": {},
   "outputs": [],
   "source": [
    "from pandasql import sqldf"
   ]
  },
  {
   "cell_type": "code",
   "execution_count": 13,
   "id": "092a2961",
   "metadata": {},
   "outputs": [],
   "source": [
    "p_cons = sqldf(\"\"\"select p_cons.*, df3.churn\n",
    "                    from p_cons\n",
    "                    inner join df3\n",
    "                    on p_cons.id = df3.id\"\"\")"
   ]
  },
  {
   "cell_type": "code",
   "execution_count": 14,
   "id": "5f681418",
   "metadata": {},
   "outputs": [],
   "source": [
    "p_cons['churn'] = p_cons['churn'].replace({0:'No', 1:'Yes'})"
   ]
  },
  {
   "cell_type": "code",
   "execution_count": 15,
   "id": "43b874d9",
   "metadata": {},
   "outputs": [
    {
     "data": {
      "text/plain": [
       "<seaborn.axisgrid.PairGrid at 0x181e2abf940>"
      ]
     },
     "execution_count": 15,
     "metadata": {},
     "output_type": "execute_result"
    },
    {
     "data": {
      "image/png": "[encoded data removed]",
      "text/plain": [
       "<Figure size 772x720 with 20 Axes>"
      ]
     },
     "metadata": {
      "needs_background": "light"
     },
     "output_type": "display_data"
    }
   ],
   "source": [
    "sns.pairplot(p_cons, hue = 'churn')"
   ]
  },
  {
   "cell_type": "code",
   "execution_count": 16,
   "id": "4cb96217",
   "metadata": {},
   "outputs": [
    {
     "data": {
      "text/plain": [
       "Index(['id', 'cons_12m', 'cons_gas_12m', 'cons_last_month', 'has_gas',\n",
       "       'imp_cons', 'churn'],\n",
       "      dtype='object')"
      ]
     },
     "execution_count": 16,
     "metadata": {},
     "output_type": "execute_result"
    }
   ],
   "source": [
    "p_cons.columns"
   ]
  },
  {
   "cell_type": "markdown",
   "id": "571407ac",
   "metadata": {},
   "source": [
    "### Data Visualization"
   ]
  },
  {
   "cell_type": "code",
   "execution_count": 17,
   "id": "8bf03ce0",
   "metadata": {},
   "outputs": [],
   "source": [
    "def stacked_bars(dataframe, title_, size_ = (18,10), rot_=0,\n",
    "                legend = \"upper right\"):\n",
    "    ax = dataframe.plot(kind = \"bar\",\n",
    "                       stacked = True,\n",
    "                       figsize = size_,\n",
    "                       rot = rot_,\n",
    "                       title = title_)\n",
    "    \n",
    "    ann_stacked_bars(ax, textsize=14)\n",
    "    plt.legend([\"Retention\", \"Churn\"], loc=legend)\n",
    "    plt.ylabel(\"Company base (%)\")\n",
    "    plt.show()\n",
    "    "
   ]
  },
  {
   "cell_type": "code",
   "execution_count": 18,
   "id": "47614279",
   "metadata": {},
   "outputs": [],
   "source": [
    "def ann_stacked_bars(ax, pad=0.99, colour = 'white', textsize=13):\n",
    "    for p in ax.patches:\n",
    "        value = str(round(p.get_height(),1))\n",
    "        if value == '0.0':\n",
    "            continue\n",
    "        ax.annotate(value, \n",
    "                   ((p.get_x()+p.get_width()/2)*pad-0.05, \n",
    "                   (p.get_y()+p.get_height()/2)*pad),\n",
    "                   color= colour,\n",
    "                   size=textsize,\n",
    "                   )"
   ]
  },
  {
   "cell_type": "code",
   "execution_count": 19,
   "id": "51cd9129",
   "metadata": {},
   "outputs": [],
   "source": [
    "p_cons['churn'] = pd.Series(np.where((p_cons['churn']==0), \"No\", \"Yes\"))"
   ]
  },
  {
   "cell_type": "code",
   "execution_count": 20,
   "id": "fa14e86e",
   "metadata": {},
   "outputs": [],
   "source": [
    "churn_sum = df3.groupby(df3['churn']).count()\n",
    "churn_per = churn_sum/churn_sum.sum()*100"
   ]
  },
  {
   "cell_type": "code",
   "execution_count": 21,
   "id": "41391bcb",
   "metadata": {},
   "outputs": [
    {
     "data": {
      "image/png": "[encoded data removed]",
      "text/plain": [
       "<Figure size 360x360 with 1 Axes>"
      ]
     },
     "metadata": {
      "needs_background": "light"
     },
     "output_type": "display_data"
    }
   ],
   "source": [
    "stacked_bars(churn_per.transpose(), \"Churn Status\", (5,5), legend= \"lower right\")"
   ]
  },
  {
   "cell_type": "markdown",
   "id": "69893287",
   "metadata": {},
   "source": [
    "10% customers have already churned"
   ]
  },
  {
   "cell_type": "code",
   "execution_count": 22,
   "id": "924e087e",
   "metadata": {},
   "outputs": [],
   "source": [
    "sales = df1[['id','channel_sales']]"
   ]
  },
  {
   "cell_type": "code",
   "execution_count": 23,
   "id": "9cca7676",
   "metadata": {},
   "outputs": [],
   "source": [
    "sales = sqldf(\"\"\"select sales.*, df3.churn\n",
    "                    from sales\n",
    "                    inner join df3\n",
    "                    on sales.id = df3.id\"\"\")"
   ]
  },
  {
   "cell_type": "code",
   "execution_count": 24,
   "id": "c73b557f",
   "metadata": {},
   "outputs": [],
   "source": [
    "sales = sales.groupby([sales['channel_sales'], sales['churn']])['id'].count().unstack(level=1).fillna(0)"
   ]
  },
  {
   "cell_type": "code",
   "execution_count": 25,
   "id": "78877085",
   "metadata": {},
   "outputs": [],
   "source": [
    "sales = (sales.div(sales.sum(axis=1), axis=0)*100).sort_values(by=[1], ascending=False)"
   ]
  },
  {
   "cell_type": "code",
   "execution_count": 26,
   "id": "cf02dd04",
   "metadata": {},
   "outputs": [
    {
     "data": {
      "text/html": [
       "<div>\n",
       "<style scoped>\n",
       "    .dataframe tbody tr th:only-of-type {\n",
       "        vertical-align: middle;\n",
       "    }\n",
       "\n",
       "    .dataframe tbody tr th {\n",
       "        vertical-align: top;\n",
       "    }\n",
       "\n",
       "    .dataframe thead th {\n",
       "        text-align: right;\n",
       "    }\n",
       "</style>\n",
       "<table border=\"1\" class=\"dataframe\">\n",
       "  <thead>\n",
       "    <tr style=\"text-align: right;\">\n",
       "      <th>churn</th>\n",
       "      <th>0</th>\n",
       "      <th>1</th>\n",
       "    </tr>\n",
       "    <tr>\n",
       "      <th>channel_sales</th>\n",
       "      <th></th>\n",
       "      <th></th>\n",
       "    </tr>\n",
       "  </thead>\n",
       "  <tbody>\n",
       "    <tr>\n",
       "      <th>foosdfpfkusacimwkcsosbicdxkicaua</th>\n",
       "      <td>87.501694</td>\n",
       "      <td>12.498306</td>\n",
       "    </tr>\n",
       "    <tr>\n",
       "      <th>usilxuppasemubllopkaafesmlibmsdf</th>\n",
       "      <td>89.612188</td>\n",
       "      <td>10.387812</td>\n",
       "    </tr>\n",
       "    <tr>\n",
       "      <th>ewpakwlliwisiwduibdlfmalxowmwpci</th>\n",
       "      <td>91.511387</td>\n",
       "      <td>8.488613</td>\n",
       "    </tr>\n",
       "    <tr>\n",
       "      <th>lmkebamcaaclubfxadlmueccxoimlema</th>\n",
       "      <td>94.404245</td>\n",
       "      <td>5.595755</td>\n",
       "    </tr>\n",
       "    <tr>\n",
       "      <th>epumfxlbckeskwekxbiuasklxalciiuu</th>\n",
       "      <td>100.000000</td>\n",
       "      <td>0.000000</td>\n",
       "    </tr>\n",
       "    <tr>\n",
       "      <th>fixdbufsefwooaasfcxdxadsiekoceaa</th>\n",
       "      <td>100.000000</td>\n",
       "      <td>0.000000</td>\n",
       "    </tr>\n",
       "    <tr>\n",
       "      <th>sddiedcslfslkckwlfkdpoeeailfpeds</th>\n",
       "      <td>100.000000</td>\n",
       "      <td>0.000000</td>\n",
       "    </tr>\n",
       "  </tbody>\n",
       "</table>\n",
       "</div>"
      ],
      "text/plain": [
       "churn                                      0          1\n",
       "channel_sales                                          \n",
       "foosdfpfkusacimwkcsosbicdxkicaua   87.501694  12.498306\n",
       "usilxuppasemubllopkaafesmlibmsdf   89.612188  10.387812\n",
       "ewpakwlliwisiwduibdlfmalxowmwpci   91.511387   8.488613\n",
       "lmkebamcaaclubfxadlmueccxoimlema   94.404245   5.595755\n",
       "epumfxlbckeskwekxbiuasklxalciiuu  100.000000   0.000000\n",
       "fixdbufsefwooaasfcxdxadsiekoceaa  100.000000   0.000000\n",
       "sddiedcslfslkckwlfkdpoeeailfpeds  100.000000   0.000000"
      ]
     },
     "execution_count": 26,
     "metadata": {},
     "output_type": "execute_result"
    }
   ],
   "source": [
    "sales"
   ]
  },
  {
   "cell_type": "code",
   "execution_count": 27,
   "id": "14f40039",
   "metadata": {},
   "outputs": [
    {
     "data": {
      "image/png": "[encoded data removed]",
      "text/plain": [
       "<Figure size 1296x720 with 1 Axes>"
      ]
     },
     "metadata": {
      "needs_background": "light"
     },
     "output_type": "display_data"
    }
   ],
   "source": [
    "stacked_bars(sales, \"Churn Status\", legend= \"lower right\", rot_=30)"
   ]
  },
  {
   "cell_type": "markdown",
   "id": "57cf2952",
   "metadata": {},
   "source": [
    "### SME Activity"
   ]
  },
  {
   "cell_type": "code",
   "execution_count": 28,
   "id": "16d4dc57",
   "metadata": {},
   "outputs": [],
   "source": [
    "activity = df1[['id','activity_new']]"
   ]
  },
  {
   "cell_type": "code",
   "execution_count": 29,
   "id": "751379d4",
   "metadata": {},
   "outputs": [],
   "source": [
    "activity = pd.merge(activity, df3, on='id')"
   ]
  },
  {
   "cell_type": "code",
   "execution_count": 30,
   "id": "e70d7365",
   "metadata": {},
   "outputs": [
    {
     "data": {
      "text/html": [
       "<div>\n",
       "<style scoped>\n",
       "    .dataframe tbody tr th:only-of-type {\n",
       "        vertical-align: middle;\n",
       "    }\n",
       "\n",
       "    .dataframe tbody tr th {\n",
       "        vertical-align: top;\n",
       "    }\n",
       "\n",
       "    .dataframe thead th {\n",
       "        text-align: right;\n",
       "    }\n",
       "</style>\n",
       "<table border=\"1\" class=\"dataframe\">\n",
       "  <thead>\n",
       "    <tr style=\"text-align: right;\">\n",
       "      <th></th>\n",
       "      <th>id</th>\n",
       "      <th>activity_new</th>\n",
       "      <th>churn</th>\n",
       "    </tr>\n",
       "  </thead>\n",
       "  <tbody>\n",
       "    <tr>\n",
       "      <th>0</th>\n",
       "      <td>48ada52261e7cf58715202705a0451c9</td>\n",
       "      <td>esoiiifxdlbkcsluxmfuacbdckommixw</td>\n",
       "      <td>0</td>\n",
       "    </tr>\n",
       "    <tr>\n",
       "      <th>1</th>\n",
       "      <td>24011ae4ebbe3035111d65fa7c15bc57</td>\n",
       "      <td>NaN</td>\n",
       "      <td>1</td>\n",
       "    </tr>\n",
       "    <tr>\n",
       "      <th>2</th>\n",
       "      <td>d29c2c54acc38ff3c0614d0a653813dd</td>\n",
       "      <td>NaN</td>\n",
       "      <td>0</td>\n",
       "    </tr>\n",
       "    <tr>\n",
       "      <th>3</th>\n",
       "      <td>764c75f661154dac3a6c254cd082ea7d</td>\n",
       "      <td>NaN</td>\n",
       "      <td>0</td>\n",
       "    </tr>\n",
       "    <tr>\n",
       "      <th>4</th>\n",
       "      <td>bba03439a292a1e166f80264c16191cb</td>\n",
       "      <td>NaN</td>\n",
       "      <td>0</td>\n",
       "    </tr>\n",
       "    <tr>\n",
       "      <th>...</th>\n",
       "      <td>...</td>\n",
       "      <td>...</td>\n",
       "      <td>...</td>\n",
       "    </tr>\n",
       "    <tr>\n",
       "      <th>16091</th>\n",
       "      <td>18463073fb097fc0ac5d3e040f356987</td>\n",
       "      <td>NaN</td>\n",
       "      <td>0</td>\n",
       "    </tr>\n",
       "    <tr>\n",
       "      <th>16092</th>\n",
       "      <td>d0a6f71671571ed83b2645d23af6de00</td>\n",
       "      <td>NaN</td>\n",
       "      <td>1</td>\n",
       "    </tr>\n",
       "    <tr>\n",
       "      <th>16093</th>\n",
       "      <td>10e6828ddd62cbcf687cb74928c4c2d2</td>\n",
       "      <td>NaN</td>\n",
       "      <td>1</td>\n",
       "    </tr>\n",
       "    <tr>\n",
       "      <th>16094</th>\n",
       "      <td>1cf20fd6206d7678d5bcafd28c53b4db</td>\n",
       "      <td>NaN</td>\n",
       "      <td>0</td>\n",
       "    </tr>\n",
       "    <tr>\n",
       "      <th>16095</th>\n",
       "      <td>563dde550fd624d7352f3de77c0cdfcd</td>\n",
       "      <td>NaN</td>\n",
       "      <td>0</td>\n",
       "    </tr>\n",
       "  </tbody>\n",
       "</table>\n",
       "<p>16096 rows × 3 columns</p>\n",
       "</div>"
      ],
      "text/plain": [
       "                                     id                      activity_new  \\\n",
       "0      48ada52261e7cf58715202705a0451c9  esoiiifxdlbkcsluxmfuacbdckommixw   \n",
       "1      24011ae4ebbe3035111d65fa7c15bc57                               NaN   \n",
       "2      d29c2c54acc38ff3c0614d0a653813dd                               NaN   \n",
       "3      764c75f661154dac3a6c254cd082ea7d                               NaN   \n",
       "4      bba03439a292a1e166f80264c16191cb                               NaN   \n",
       "...                                 ...                               ...   \n",
       "16091  18463073fb097fc0ac5d3e040f356987                               NaN   \n",
       "16092  d0a6f71671571ed83b2645d23af6de00                               NaN   \n",
       "16093  10e6828ddd62cbcf687cb74928c4c2d2                               NaN   \n",
       "16094  1cf20fd6206d7678d5bcafd28c53b4db                               NaN   \n",
       "16095  563dde550fd624d7352f3de77c0cdfcd                               NaN   \n",
       "\n",
       "       churn  \n",
       "0          0  \n",
       "1          1  \n",
       "2          0  \n",
       "3          0  \n",
       "4          0  \n",
       "...      ...  \n",
       "16091      0  \n",
       "16092      1  \n",
       "16093      1  \n",
       "16094      0  \n",
       "16095      0  \n",
       "\n",
       "[16096 rows x 3 columns]"
      ]
     },
     "execution_count": 30,
     "metadata": {},
     "output_type": "execute_result"
    }
   ],
   "source": [
    "activity"
   ]
  },
  {
   "cell_type": "code",
   "execution_count": 31,
   "id": "bd80d3ec",
   "metadata": {},
   "outputs": [],
   "source": [
    "activity = activity.groupby([activity[\"activity_new\"],\n",
    " activity[\"churn\"]])[\"id\"].count().unstack(level=1).sort_values(by=[0], ascending=False)"
   ]
  },
  {
   "cell_type": "code",
   "execution_count": 32,
   "id": "22cd6fdd",
   "metadata": {},
   "outputs": [
    {
     "data": {
      "text/html": [
       "<div>\n",
       "<style scoped>\n",
       "    .dataframe tbody tr th:only-of-type {\n",
       "        vertical-align: middle;\n",
       "    }\n",
       "\n",
       "    .dataframe tbody tr th {\n",
       "        vertical-align: top;\n",
       "    }\n",
       "\n",
       "    .dataframe thead th {\n",
       "        text-align: right;\n",
       "    }\n",
       "</style>\n",
       "<table border=\"1\" class=\"dataframe\">\n",
       "  <thead>\n",
       "    <tr style=\"text-align: right;\">\n",
       "      <th>churn</th>\n",
       "      <th>0</th>\n",
       "      <th>1</th>\n",
       "    </tr>\n",
       "    <tr>\n",
       "      <th>activity_new</th>\n",
       "      <th></th>\n",
       "      <th></th>\n",
       "    </tr>\n",
       "  </thead>\n",
       "  <tbody>\n",
       "    <tr>\n",
       "      <th>apdekpcbwosbxepsfxclislboipuxpop</th>\n",
       "      <td>1484.0</td>\n",
       "      <td>93.0</td>\n",
       "    </tr>\n",
       "    <tr>\n",
       "      <th>kkklcdamwfafdcfwofuscwfwadblfmce</th>\n",
       "      <td>384.0</td>\n",
       "      <td>38.0</td>\n",
       "    </tr>\n",
       "    <tr>\n",
       "      <th>kwuslieomapmswolewpobpplkaooaaew</th>\n",
       "      <td>200.0</td>\n",
       "      <td>30.0</td>\n",
       "    </tr>\n",
       "    <tr>\n",
       "      <th>fmwdwsxillemwbbwelxsampiuwwpcdcb</th>\n",
       "      <td>187.0</td>\n",
       "      <td>32.0</td>\n",
       "    </tr>\n",
       "    <tr>\n",
       "      <th>ckfxocssowaeipxueikxcmaxdmcduxsa</th>\n",
       "      <td>176.0</td>\n",
       "      <td>13.0</td>\n",
       "    </tr>\n",
       "    <tr>\n",
       "      <th>...</th>\n",
       "      <td>...</td>\n",
       "      <td>...</td>\n",
       "    </tr>\n",
       "    <tr>\n",
       "      <th>opoiuuwdmxdssidluooopfswlkkkcsxf</th>\n",
       "      <td>NaN</td>\n",
       "      <td>1.0</td>\n",
       "    </tr>\n",
       "    <tr>\n",
       "      <th>pfcocskbxlmofswiflsbcefcpufbopuo</th>\n",
       "      <td>NaN</td>\n",
       "      <td>2.0</td>\n",
       "    </tr>\n",
       "    <tr>\n",
       "      <th>wceaopxmdpccxfmcdpopulcaubcxibuw</th>\n",
       "      <td>NaN</td>\n",
       "      <td>1.0</td>\n",
       "    </tr>\n",
       "    <tr>\n",
       "      <th>wkwdccuiboaeaalcaawlwmldiwmpewma</th>\n",
       "      <td>NaN</td>\n",
       "      <td>1.0</td>\n",
       "    </tr>\n",
       "    <tr>\n",
       "      <th>xwkaesbkfsacseixxksofpddwfkbobki</th>\n",
       "      <td>NaN</td>\n",
       "      <td>1.0</td>\n",
       "    </tr>\n",
       "  </tbody>\n",
       "</table>\n",
       "<p>419 rows × 2 columns</p>\n",
       "</div>"
      ],
      "text/plain": [
       "churn                                  0     1\n",
       "activity_new                                  \n",
       "apdekpcbwosbxepsfxclislboipuxpop  1484.0  93.0\n",
       "kkklcdamwfafdcfwofuscwfwadblfmce   384.0  38.0\n",
       "kwuslieomapmswolewpobpplkaooaaew   200.0  30.0\n",
       "fmwdwsxillemwbbwelxsampiuwwpcdcb   187.0  32.0\n",
       "ckfxocssowaeipxueikxcmaxdmcduxsa   176.0  13.0\n",
       "...                                  ...   ...\n",
       "opoiuuwdmxdssidluooopfswlkkkcsxf     NaN   1.0\n",
       "pfcocskbxlmofswiflsbcefcpufbopuo     NaN   2.0\n",
       "wceaopxmdpccxfmcdpopulcaubcxibuw     NaN   1.0\n",
       "wkwdccuiboaeaalcaawlwmldiwmpewma     NaN   1.0\n",
       "xwkaesbkfsacseixxksofpddwfkbobki     NaN   1.0\n",
       "\n",
       "[419 rows x 2 columns]"
      ]
     },
     "execution_count": 32,
     "metadata": {},
     "output_type": "execute_result"
    }
   ],
   "source": [
    "activity"
   ]
  },
  {
   "cell_type": "code",
   "execution_count": null,
   "id": "a2a67301",
   "metadata": {},
   "outputs": [],
   "source": []
  },
  {
   "cell_type": "code",
   "execution_count": 33,
   "id": "8bb94236",
   "metadata": {
    "scrolled": true
   },
   "outputs": [
    {
     "data": {
      "image/png": "[encoded data removed]",
      "text/plain": [
       "<Figure size 1296x720 with 1 Axes>"
      ]
     },
     "metadata": {
      "needs_background": "light"
     },
     "output_type": "display_data"
    }
   ],
   "source": [
    "activity.plot(kind='bar',\n",
    "             figsize=(18,10),\n",
    "             width = 4,\n",
    "             stacked = True,)\n",
    "\n",
    "\n",
    "plt.xlabel(\"Activity\")\n",
    "plt.ylabel(\"Number of Companies\")\n",
    "plt.xticks([])\n",
    "plt.show();"
   ]
  },
  {
   "cell_type": "code",
   "execution_count": 34,
   "id": "9f0e3f70",
   "metadata": {
    "scrolled": true
   },
   "outputs": [
    {
     "data": {
      "text/html": [
       "<div>\n",
       "<style scoped>\n",
       "    .dataframe tbody tr th:only-of-type {\n",
       "        vertical-align: middle;\n",
       "    }\n",
       "\n",
       "    .dataframe tbody tr th {\n",
       "        vertical-align: top;\n",
       "    }\n",
       "\n",
       "    .dataframe thead th {\n",
       "        text-align: right;\n",
       "    }\n",
       "</style>\n",
       "<table border=\"1\" class=\"dataframe\">\n",
       "  <thead>\n",
       "    <tr style=\"text-align: right;\">\n",
       "      <th></th>\n",
       "      <th>Percentage churn</th>\n",
       "      <th>Total companies</th>\n",
       "    </tr>\n",
       "    <tr>\n",
       "      <th>activity_new</th>\n",
       "      <th></th>\n",
       "      <th></th>\n",
       "    </tr>\n",
       "  </thead>\n",
       "  <tbody>\n",
       "    <tr>\n",
       "      <th>xwkaesbkfsacseixxksofpddwfkbobki</th>\n",
       "      <td>100.000000</td>\n",
       "      <td>1.0</td>\n",
       "    </tr>\n",
       "    <tr>\n",
       "      <th>wkwdccuiboaeaalcaawlwmldiwmpewma</th>\n",
       "      <td>100.000000</td>\n",
       "      <td>1.0</td>\n",
       "    </tr>\n",
       "    <tr>\n",
       "      <th>ikiucmkuisupefxcxfxxulkpwssppfuo</th>\n",
       "      <td>100.000000</td>\n",
       "      <td>1.0</td>\n",
       "    </tr>\n",
       "    <tr>\n",
       "      <th>opoiuuwdmxdssidluooopfswlkkkcsxf</th>\n",
       "      <td>100.000000</td>\n",
       "      <td>1.0</td>\n",
       "    </tr>\n",
       "    <tr>\n",
       "      <th>pfcocskbxlmofswiflsbcefcpufbopuo</th>\n",
       "      <td>100.000000</td>\n",
       "      <td>2.0</td>\n",
       "    </tr>\n",
       "    <tr>\n",
       "      <th>oeacexidmflusdkwuuicmpiaklkxulxm</th>\n",
       "      <td>100.000000</td>\n",
       "      <td>1.0</td>\n",
       "    </tr>\n",
       "    <tr>\n",
       "      <th>wceaopxmdpccxfmcdpopulcaubcxibuw</th>\n",
       "      <td>100.000000</td>\n",
       "      <td>1.0</td>\n",
       "    </tr>\n",
       "    <tr>\n",
       "      <th>kmlwkmxoocpieebifumobckeafmidpxf</th>\n",
       "      <td>100.000000</td>\n",
       "      <td>1.0</td>\n",
       "    </tr>\n",
       "    <tr>\n",
       "      <th>cwouwoubfifoafkxifokoidcuoamebea</th>\n",
       "      <td>66.666667</td>\n",
       "      <td>3.0</td>\n",
       "    </tr>\n",
       "    <tr>\n",
       "      <th>wfiuolfffsekuoimxdsasfwcmwssewoi</th>\n",
       "      <td>50.000000</td>\n",
       "      <td>4.0</td>\n",
       "    </tr>\n",
       "  </tbody>\n",
       "</table>\n",
       "</div>"
      ],
      "text/plain": [
       "                                  Percentage churn  Total companies\n",
       "activity_new                                                       \n",
       "xwkaesbkfsacseixxksofpddwfkbobki        100.000000              1.0\n",
       "wkwdccuiboaeaalcaawlwmldiwmpewma        100.000000              1.0\n",
       "ikiucmkuisupefxcxfxxulkpwssppfuo        100.000000              1.0\n",
       "opoiuuwdmxdssidluooopfswlkkkcsxf        100.000000              1.0\n",
       "pfcocskbxlmofswiflsbcefcpufbopuo        100.000000              2.0\n",
       "oeacexidmflusdkwuuicmpiaklkxulxm        100.000000              1.0\n",
       "wceaopxmdpccxfmcdpopulcaubcxibuw        100.000000              1.0\n",
       "kmlwkmxoocpieebifumobckeafmidpxf        100.000000              1.0\n",
       "cwouwoubfifoafkxifokoidcuoamebea         66.666667              3.0\n",
       "wfiuolfffsekuoimxdsasfwcmwssewoi         50.000000              4.0"
      ]
     },
     "execution_count": 34,
     "metadata": {},
     "output_type": "execute_result"
    }
   ],
   "source": [
    "activity_tot = activity.fillna(0)[0]+activity.fillna(0)[1]\n",
    "activity_per = activity.fillna(0)[1]/(activity_tot)*100\n",
    "\n",
    "pd.DataFrame({\"Percentage churn\": activity_per,\n",
    " \"Total companies\": activity_tot }).sort_values(by=\"Percentage churn\",\n",
    " ascending=False).head(10)"
   ]
  },
  {
   "cell_type": "markdown",
   "id": "daf3d20e",
   "metadata": {},
   "source": [
    "### Consumption"
   ]
  },
  {
   "cell_type": "code",
   "execution_count": 35,
   "id": "4fabc0c9",
   "metadata": {},
   "outputs": [],
   "source": [
    "cons = df1[[\"id\",\"cons_12m\", \"cons_gas_12m\",\"cons_last_month\", \"imp_cons\", \"has_gas\" ]]"
   ]
  },
  {
   "cell_type": "code",
   "execution_count": 36,
   "id": "4d53b11e",
   "metadata": {},
   "outputs": [],
   "source": [
    "cons = pd.merge(cons, df3, on='id')"
   ]
  },
  {
   "cell_type": "code",
   "execution_count": 37,
   "id": "d88d04a8",
   "metadata": {},
   "outputs": [],
   "source": [
    "def cons_plot(dataframe, column, bins_=50, figsize=(18,25)):\n",
    "    temp = pd.DataFrame({\"Retention\": dataframe[dataframe[\"churn\"]==0][column],\n",
    "                        \"Churn\": dataframe[dataframe[\"churn\"]==1][column]})\n",
    "    temp[['Retention', 'Churn']].plot(kind='hist', bins=bins_, stacked = True)\n",
    "    plt.xlabel(column)\n",
    "    plt.ticklabel_format(style='plain', axis='x')"
   ]
  },
  {
   "cell_type": "code",
   "execution_count": 38,
   "id": "3c9c7bc2",
   "metadata": {},
   "outputs": [
    {
     "data": {
      "image/png": "[encoded data removed]",
      "text/plain": [
       "<Figure size 432x288 with 1 Axes>"
      ]
     },
     "metadata": {
      "needs_background": "light"
     },
     "output_type": "display_data"
    }
   ],
   "source": [
    "cons_plot(cons, 'cons_last_month')"
   ]
  },
  {
   "cell_type": "code",
   "execution_count": 39,
   "id": "e7ecb08a",
   "metadata": {},
   "outputs": [
    {
     "data": {
      "image/png": "[encoded data removed]",
      "text/plain": [
       "<Figure size 432x288 with 1 Axes>"
      ]
     },
     "metadata": {
      "needs_background": "light"
     },
     "output_type": "display_data"
    }
   ],
   "source": [
    "cons_plot(cons, 'imp_cons')"
   ]
  },
  {
   "cell_type": "code",
   "execution_count": 40,
   "id": "d576926a",
   "metadata": {},
   "outputs": [
    {
     "data": {
      "image/png": "[encoded data removed]",
      "text/plain": [
       "<Figure size 432x288 with 1 Axes>"
      ]
     },
     "metadata": {
      "needs_background": "light"
     },
     "output_type": "display_data"
    }
   ],
   "source": [
    "cons_plot(cons, 'cons_12m')\n",
    "plt.xticks(rotation = 45);"
   ]
  },
  {
   "cell_type": "code",
   "execution_count": 41,
   "id": "aaac3d3b",
   "metadata": {},
   "outputs": [
    {
     "name": "stderr",
     "output_type": "stream",
     "text": [
      "C:\\Users\\juhia\\anaconda3\\lib\\site-packages\\seaborn\\_decorators.py:36: FutureWarning: Pass the following variable as a keyword arg: x. From version 0.12, the only valid positional argument will be `data`, and passing other arguments without an explicit keyword will result in an error or misinterpretation.\n",
      "  warnings.warn(\n",
      "C:\\Users\\juhia\\anaconda3\\lib\\site-packages\\seaborn\\_decorators.py:36: FutureWarning: Pass the following variable as a keyword arg: x. From version 0.12, the only valid positional argument will be `data`, and passing other arguments without an explicit keyword will result in an error or misinterpretation.\n",
      "  warnings.warn(\n",
      "C:\\Users\\juhia\\anaconda3\\lib\\site-packages\\seaborn\\_decorators.py:36: FutureWarning: Pass the following variable as a keyword arg: x. From version 0.12, the only valid positional argument will be `data`, and passing other arguments without an explicit keyword will result in an error or misinterpretation.\n",
      "  warnings.warn(\n",
      "C:\\Users\\juhia\\anaconda3\\lib\\site-packages\\seaborn\\_decorators.py:36: FutureWarning: Pass the following variable as a keyword arg: x. From version 0.12, the only valid positional argument will be `data`, and passing other arguments without an explicit keyword will result in an error or misinterpretation.\n",
      "  warnings.warn(\n"
     ]
    },
    {
     "data": {
      "image/png": "[encoded data removed]",
      "text/plain": [
       "<Figure size 1296x1800 with 4 Axes>"
      ]
     },
     "metadata": {
      "needs_background": "light"
     },
     "output_type": "display_data"
    }
   ],
   "source": [
    "fig, axs = plt.subplots(nrows=4, figsize=(18,25))\n",
    "# Plot histogram\n",
    "sns.boxplot(cons[\"cons_12m\"], ax=axs[0])\n",
    "sns.boxplot(cons[cons[\"has_gas\"] == \"t\"][\"cons_gas_12m\"], ax=axs[1])\n",
    "sns.boxplot(cons[\"cons_last_month\"], ax=axs[2])\n",
    "sns.boxplot(cons[\"imp_cons\"], ax=axs[3])\n",
    "# Remove scientific notation\n",
    "for ax in axs:\n",
    " ax.ticklabel_format(style='plain', axis='x')\n",
    "# Set x-axis limit\n",
    "axs[0].set_xlim(-200000, 2000000)\n",
    "axs[1].set_xlim(-200000, 2000000)\n",
    "axs[2].set_xlim(-20000, 100000)\n",
    "\n",
    "plt.show()"
   ]
  },
  {
   "cell_type": "markdown",
   "id": "2436265b",
   "metadata": {},
   "source": [
    "### Forecast"
   ]
  },
  {
   "cell_type": "code",
   "execution_count": 42,
   "id": "5b1b241c",
   "metadata": {},
   "outputs": [],
   "source": [
    "forc = df1[[\"id\",\"forecast_cons_12m\",\n",
    " \"forecast_cons_year\",\"forecast_discount_energy\",\"forecast_meter_rent_12m\",\n",
    " \"forecast_price_energy_p1\",\"forecast_price_energy_p2\",\n",
    " \"forecast_price_pow_p1\"]]"
   ]
  },
  {
   "cell_type": "code",
   "execution_count": 43,
   "id": "45b9243b",
   "metadata": {},
   "outputs": [],
   "source": [
    "forc = pd.merge(forc, df3, on='id')"
   ]
  },
  {
   "cell_type": "code",
   "execution_count": 44,
   "id": "fa34caa1",
   "metadata": {},
   "outputs": [
    {
     "data": {
      "text/html": [
       "<div>\n",
       "<style scoped>\n",
       "    .dataframe tbody tr th:only-of-type {\n",
       "        vertical-align: middle;\n",
       "    }\n",
       "\n",
       "    .dataframe tbody tr th {\n",
       "        vertical-align: top;\n",
       "    }\n",
       "\n",
       "    .dataframe thead th {\n",
       "        text-align: right;\n",
       "    }\n",
       "</style>\n",
       "<table border=\"1\" class=\"dataframe\">\n",
       "  <thead>\n",
       "    <tr style=\"text-align: right;\">\n",
       "      <th></th>\n",
       "      <th>id</th>\n",
       "      <th>forecast_cons_12m</th>\n",
       "      <th>forecast_cons_year</th>\n",
       "      <th>forecast_discount_energy</th>\n",
       "      <th>forecast_meter_rent_12m</th>\n",
       "      <th>forecast_price_energy_p1</th>\n",
       "      <th>forecast_price_energy_p2</th>\n",
       "      <th>forecast_price_pow_p1</th>\n",
       "      <th>churn</th>\n",
       "    </tr>\n",
       "  </thead>\n",
       "  <tbody>\n",
       "    <tr>\n",
       "      <th>0</th>\n",
       "      <td>48ada52261e7cf58715202705a0451c9</td>\n",
       "      <td>26520.30</td>\n",
       "      <td>10025</td>\n",
       "      <td>0.0</td>\n",
       "      <td>359.29</td>\n",
       "      <td>0.095919</td>\n",
       "      <td>0.088347</td>\n",
       "      <td>58.995952</td>\n",
       "      <td>0</td>\n",
       "    </tr>\n",
       "    <tr>\n",
       "      <th>1</th>\n",
       "      <td>24011ae4ebbe3035111d65fa7c15bc57</td>\n",
       "      <td>0.00</td>\n",
       "      <td>0</td>\n",
       "      <td>0.0</td>\n",
       "      <td>1.78</td>\n",
       "      <td>0.114481</td>\n",
       "      <td>0.098142</td>\n",
       "      <td>40.606701</td>\n",
       "      <td>1</td>\n",
       "    </tr>\n",
       "    <tr>\n",
       "      <th>2</th>\n",
       "      <td>d29c2c54acc38ff3c0614d0a653813dd</td>\n",
       "      <td>189.95</td>\n",
       "      <td>0</td>\n",
       "      <td>0.0</td>\n",
       "      <td>16.27</td>\n",
       "      <td>0.145711</td>\n",
       "      <td>0.000000</td>\n",
       "      <td>44.311378</td>\n",
       "      <td>0</td>\n",
       "    </tr>\n",
       "    <tr>\n",
       "      <th>3</th>\n",
       "      <td>764c75f661154dac3a6c254cd082ea7d</td>\n",
       "      <td>47.96</td>\n",
       "      <td>0</td>\n",
       "      <td>0.0</td>\n",
       "      <td>38.72</td>\n",
       "      <td>0.165794</td>\n",
       "      <td>0.087899</td>\n",
       "      <td>44.311378</td>\n",
       "      <td>0</td>\n",
       "    </tr>\n",
       "    <tr>\n",
       "      <th>4</th>\n",
       "      <td>bba03439a292a1e166f80264c16191cb</td>\n",
       "      <td>240.04</td>\n",
       "      <td>0</td>\n",
       "      <td>0.0</td>\n",
       "      <td>19.83</td>\n",
       "      <td>0.146694</td>\n",
       "      <td>0.000000</td>\n",
       "      <td>44.311378</td>\n",
       "      <td>0</td>\n",
       "    </tr>\n",
       "    <tr>\n",
       "      <th>...</th>\n",
       "      <td>...</td>\n",
       "      <td>...</td>\n",
       "      <td>...</td>\n",
       "      <td>...</td>\n",
       "      <td>...</td>\n",
       "      <td>...</td>\n",
       "      <td>...</td>\n",
       "      <td>...</td>\n",
       "      <td>...</td>\n",
       "    </tr>\n",
       "    <tr>\n",
       "      <th>16091</th>\n",
       "      <td>18463073fb097fc0ac5d3e040f356987</td>\n",
       "      <td>4648.01</td>\n",
       "      <td>0</td>\n",
       "      <td>0.0</td>\n",
       "      <td>18.57</td>\n",
       "      <td>0.138305</td>\n",
       "      <td>0.000000</td>\n",
       "      <td>44.311378</td>\n",
       "      <td>0</td>\n",
       "    </tr>\n",
       "    <tr>\n",
       "      <th>16092</th>\n",
       "      <td>d0a6f71671571ed83b2645d23af6de00</td>\n",
       "      <td>631.69</td>\n",
       "      <td>181</td>\n",
       "      <td>0.0</td>\n",
       "      <td>144.03</td>\n",
       "      <td>0.100167</td>\n",
       "      <td>0.091892</td>\n",
       "      <td>58.995952</td>\n",
       "      <td>1</td>\n",
       "    </tr>\n",
       "    <tr>\n",
       "      <th>16093</th>\n",
       "      <td>10e6828ddd62cbcf687cb74928c4c2d2</td>\n",
       "      <td>190.39</td>\n",
       "      <td>179</td>\n",
       "      <td>0.0</td>\n",
       "      <td>129.60</td>\n",
       "      <td>0.116900</td>\n",
       "      <td>0.100015</td>\n",
       "      <td>40.606701</td>\n",
       "      <td>1</td>\n",
       "    </tr>\n",
       "    <tr>\n",
       "      <th>16094</th>\n",
       "      <td>1cf20fd6206d7678d5bcafd28c53b4db</td>\n",
       "      <td>19.34</td>\n",
       "      <td>0</td>\n",
       "      <td>0.0</td>\n",
       "      <td>7.18</td>\n",
       "      <td>0.145711</td>\n",
       "      <td>0.000000</td>\n",
       "      <td>44.311378</td>\n",
       "      <td>0</td>\n",
       "    </tr>\n",
       "    <tr>\n",
       "      <th>16095</th>\n",
       "      <td>563dde550fd624d7352f3de77c0cdfcd</td>\n",
       "      <td>762.41</td>\n",
       "      <td>0</td>\n",
       "      <td>0.0</td>\n",
       "      <td>1.07</td>\n",
       "      <td>0.167086</td>\n",
       "      <td>0.088454</td>\n",
       "      <td>45.311378</td>\n",
       "      <td>0</td>\n",
       "    </tr>\n",
       "  </tbody>\n",
       "</table>\n",
       "<p>16096 rows × 9 columns</p>\n",
       "</div>"
      ],
      "text/plain": [
       "                                     id  forecast_cons_12m  \\\n",
       "0      48ada52261e7cf58715202705a0451c9           26520.30   \n",
       "1      24011ae4ebbe3035111d65fa7c15bc57               0.00   \n",
       "2      d29c2c54acc38ff3c0614d0a653813dd             189.95   \n",
       "3      764c75f661154dac3a6c254cd082ea7d              47.96   \n",
       "4      bba03439a292a1e166f80264c16191cb             240.04   \n",
       "...                                 ...                ...   \n",
       "16091  18463073fb097fc0ac5d3e040f356987            4648.01   \n",
       "16092  d0a6f71671571ed83b2645d23af6de00             631.69   \n",
       "16093  10e6828ddd62cbcf687cb74928c4c2d2             190.39   \n",
       "16094  1cf20fd6206d7678d5bcafd28c53b4db              19.34   \n",
       "16095  563dde550fd624d7352f3de77c0cdfcd             762.41   \n",
       "\n",
       "       forecast_cons_year  forecast_discount_energy  forecast_meter_rent_12m  \\\n",
       "0                   10025                       0.0                   359.29   \n",
       "1                       0                       0.0                     1.78   \n",
       "2                       0                       0.0                    16.27   \n",
       "3                       0                       0.0                    38.72   \n",
       "4                       0                       0.0                    19.83   \n",
       "...                   ...                       ...                      ...   \n",
       "16091                   0                       0.0                    18.57   \n",
       "16092                 181                       0.0                   144.03   \n",
       "16093                 179                       0.0                   129.60   \n",
       "16094                   0                       0.0                     7.18   \n",
       "16095                   0                       0.0                     1.07   \n",
       "\n",
       "       forecast_price_energy_p1  forecast_price_energy_p2  \\\n",
       "0                      0.095919                  0.088347   \n",
       "1                      0.114481                  0.098142   \n",
       "2                      0.145711                  0.000000   \n",
       "3                      0.165794                  0.087899   \n",
       "4                      0.146694                  0.000000   \n",
       "...                         ...                       ...   \n",
       "16091                  0.138305                  0.000000   \n",
       "16092                  0.100167                  0.091892   \n",
       "16093                  0.116900                  0.100015   \n",
       "16094                  0.145711                  0.000000   \n",
       "16095                  0.167086                  0.088454   \n",
       "\n",
       "       forecast_price_pow_p1  churn  \n",
       "0                  58.995952      0  \n",
       "1                  40.606701      1  \n",
       "2                  44.311378      0  \n",
       "3                  44.311378      0  \n",
       "4                  44.311378      0  \n",
       "...                      ...    ...  \n",
       "16091              44.311378      0  \n",
       "16092              58.995952      1  \n",
       "16093              40.606701      1  \n",
       "16094              44.311378      0  \n",
       "16095              45.311378      0  \n",
       "\n",
       "[16096 rows x 9 columns]"
      ]
     },
     "execution_count": 44,
     "metadata": {},
     "output_type": "execute_result"
    }
   ],
   "source": [
    "forc"
   ]
  },
  {
   "cell_type": "code",
   "execution_count": 45,
   "id": "5dca71fb",
   "metadata": {},
   "outputs": [],
   "source": [
    "def forc_plot(dataframe, column, ax, bins_=50, figsize=(18,25)):\n",
    "    temp = pd.DataFrame({\"Retention\": dataframe[dataframe[\"churn\"]==0][column],\n",
    "                        \"Churn\": dataframe[dataframe[\"churn\"]==1][column]})\n",
    "    temp[['Retention', 'Churn']].plot(kind='hist',ax=ax, bins=bins_, stacked = True)\n",
    "    ax.set_xlabel(column)\n",
    "    ax.ticklabel_format(style='plain', axis='x')"
   ]
  },
  {
   "cell_type": "code",
   "execution_count": 46,
   "id": "19e77065",
   "metadata": {},
   "outputs": [
    {
     "data": {
      "image/png": "[encoded data removed]",
      "text/plain": [
       "<Figure size 1296x1800 with 7 Axes>"
      ]
     },
     "metadata": {
      "needs_background": "light"
     },
     "output_type": "display_data"
    }
   ],
   "source": [
    "fig, axs = plt.subplots(nrows = 7, figsize=(18,25))\n",
    "\n",
    "k = 0\n",
    "for i in forc.columns:\n",
    "    if i == 'id' or i == 'churn':\n",
    "        continue\n",
    "    forc_plot(forc, i ,axs[k])\n",
    "    k = k+1"
   ]
  },
  {
   "cell_type": "markdown",
   "id": "36a9d424",
   "metadata": {},
   "source": [
    "### Contract Type"
   ]
  },
  {
   "cell_type": "code",
   "execution_count": 47,
   "id": "eaa76d81",
   "metadata": {},
   "outputs": [],
   "source": [
    "contract_type = df1[[\"id\", \"has_gas\"]]"
   ]
  },
  {
   "cell_type": "code",
   "execution_count": 48,
   "id": "e9bd70bb",
   "metadata": {},
   "outputs": [],
   "source": [
    "contract_type = pd.merge(contract_type, df3, on='id')"
   ]
  },
  {
   "cell_type": "code",
   "execution_count": 49,
   "id": "59d9c44e",
   "metadata": {},
   "outputs": [],
   "source": [
    "contract = contract_type.groupby([contract_type[\"churn\"],\n",
    " contract_type[\"has_gas\"]])[\"id\"].count().unstack(level=0)"
   ]
  },
  {
   "cell_type": "code",
   "execution_count": 50,
   "id": "7b133457",
   "metadata": {},
   "outputs": [],
   "source": [
    "contract = contract_type.groupby([contract_type[\"churn\"],\n",
    " contract_type[\"has_gas\"]])[\"id\"].count().unstack(level=0)\n"
   ]
  },
  {
   "cell_type": "code",
   "execution_count": 51,
   "id": "746c2dd4",
   "metadata": {},
   "outputs": [],
   "source": [
    "contract_percentage = (contract.div(contract.sum(axis=1), axis=0)*100).sort_values(by=[1], ascending=False)\n"
   ]
  },
  {
   "cell_type": "code",
   "execution_count": 52,
   "id": "8f20c29b",
   "metadata": {},
   "outputs": [
    {
     "data": {
      "text/html": [
       "<div>\n",
       "<style scoped>\n",
       "    .dataframe tbody tr th:only-of-type {\n",
       "        vertical-align: middle;\n",
       "    }\n",
       "\n",
       "    .dataframe tbody tr th {\n",
       "        vertical-align: top;\n",
       "    }\n",
       "\n",
       "    .dataframe thead th {\n",
       "        text-align: right;\n",
       "    }\n",
       "</style>\n",
       "<table border=\"1\" class=\"dataframe\">\n",
       "  <thead>\n",
       "    <tr style=\"text-align: right;\">\n",
       "      <th>churn</th>\n",
       "      <th>0</th>\n",
       "      <th>1</th>\n",
       "    </tr>\n",
       "    <tr>\n",
       "      <th>has_gas</th>\n",
       "      <th></th>\n",
       "      <th></th>\n",
       "    </tr>\n",
       "  </thead>\n",
       "  <tbody>\n",
       "    <tr>\n",
       "      <th>f</th>\n",
       "      <td>89.636004</td>\n",
       "      <td>10.363996</td>\n",
       "    </tr>\n",
       "    <tr>\n",
       "      <th>t</th>\n",
       "      <td>92.105263</td>\n",
       "      <td>7.894737</td>\n",
       "    </tr>\n",
       "  </tbody>\n",
       "</table>\n",
       "</div>"
      ],
      "text/plain": [
       "churn            0          1\n",
       "has_gas                      \n",
       "f        89.636004  10.363996\n",
       "t        92.105263   7.894737"
      ]
     },
     "execution_count": 52,
     "metadata": {},
     "output_type": "execute_result"
    }
   ],
   "source": [
    "contract_percentage"
   ]
  },
  {
   "cell_type": "code",
   "execution_count": 53,
   "id": "1800b5b9",
   "metadata": {},
   "outputs": [
    {
     "data": {
      "image/png": "[encoded data removed]",
      "text/plain": [
       "<Figure size 1296x720 with 1 Axes>"
      ]
     },
     "metadata": {
      "needs_background": "light"
     },
     "output_type": "display_data"
    }
   ],
   "source": [
    "stacked_bars(contract_percentage, \"Contract Type\")"
   ]
  },
  {
   "cell_type": "code",
   "execution_count": 54,
   "id": "712d71af",
   "metadata": {},
   "outputs": [
    {
     "data": {
      "text/plain": [
       "id                           object\n",
       "activity_new                 object\n",
       "channel_sales                object\n",
       "cons_12m                      int64\n",
       "cons_gas_12m                  int64\n",
       "cons_last_month               int64\n",
       "date_activ                   object\n",
       "date_end                     object\n",
       "date_modif_prod              object\n",
       "date_renewal                 object\n",
       "forecast_cons_12m           float64\n",
       "forecast_cons_year            int64\n",
       "forecast_discount_energy    float64\n",
       "forecast_meter_rent_12m     float64\n",
       "forecast_price_energy_p1    float64\n",
       "forecast_price_energy_p2    float64\n",
       "forecast_price_pow_p1       float64\n",
       "has_gas                      object\n",
       "imp_cons                    float64\n",
       "margin_gross_pow_ele        float64\n",
       "margin_net_pow_ele          float64\n",
       "nb_prod_act                   int64\n",
       "net_margin                  float64\n",
       "num_years_antig               int64\n",
       "origin_up                    object\n",
       "pow_max                     float64\n",
       "dtype: object"
      ]
     },
     "execution_count": 54,
     "metadata": {},
     "output_type": "execute_result"
    }
   ],
   "source": [
    "df1.dtypes"
   ]
  },
  {
   "cell_type": "code",
   "execution_count": 55,
   "id": "1bac2b43",
   "metadata": {},
   "outputs": [
    {
     "data": {
      "text/html": [
       "<div>\n",
       "<style scoped>\n",
       "    .dataframe tbody tr th:only-of-type {\n",
       "        vertical-align: middle;\n",
       "    }\n",
       "\n",
       "    .dataframe tbody tr th {\n",
       "        vertical-align: top;\n",
       "    }\n",
       "\n",
       "    .dataframe thead th {\n",
       "        text-align: right;\n",
       "    }\n",
       "</style>\n",
       "<table border=\"1\" class=\"dataframe\">\n",
       "  <thead>\n",
       "    <tr style=\"text-align: right;\">\n",
       "      <th></th>\n",
       "      <th>Missing Value (%)</th>\n",
       "    </tr>\n",
       "  </thead>\n",
       "  <tbody>\n",
       "    <tr>\n",
       "      <th>id</th>\n",
       "      <td>0.000000</td>\n",
       "    </tr>\n",
       "    <tr>\n",
       "      <th>activity_new</th>\n",
       "      <td>59.300447</td>\n",
       "    </tr>\n",
       "    <tr>\n",
       "      <th>channel_sales</th>\n",
       "      <td>26.205268</td>\n",
       "    </tr>\n",
       "    <tr>\n",
       "      <th>cons_12m</th>\n",
       "      <td>0.000000</td>\n",
       "    </tr>\n",
       "    <tr>\n",
       "      <th>cons_gas_12m</th>\n",
       "      <td>0.000000</td>\n",
       "    </tr>\n",
       "    <tr>\n",
       "      <th>cons_last_month</th>\n",
       "      <td>0.000000</td>\n",
       "    </tr>\n",
       "    <tr>\n",
       "      <th>date_activ</th>\n",
       "      <td>0.000000</td>\n",
       "    </tr>\n",
       "    <tr>\n",
       "      <th>date_end</th>\n",
       "      <td>0.012425</td>\n",
       "    </tr>\n",
       "    <tr>\n",
       "      <th>date_modif_prod</th>\n",
       "      <td>0.975398</td>\n",
       "    </tr>\n",
       "    <tr>\n",
       "      <th>date_renewal</th>\n",
       "      <td>0.248509</td>\n",
       "    </tr>\n",
       "    <tr>\n",
       "      <th>forecast_cons_12m</th>\n",
       "      <td>0.000000</td>\n",
       "    </tr>\n",
       "    <tr>\n",
       "      <th>forecast_cons_year</th>\n",
       "      <td>0.000000</td>\n",
       "    </tr>\n",
       "    <tr>\n",
       "      <th>forecast_discount_energy</th>\n",
       "      <td>0.782803</td>\n",
       "    </tr>\n",
       "    <tr>\n",
       "      <th>forecast_meter_rent_12m</th>\n",
       "      <td>0.000000</td>\n",
       "    </tr>\n",
       "    <tr>\n",
       "      <th>forecast_price_energy_p1</th>\n",
       "      <td>0.782803</td>\n",
       "    </tr>\n",
       "    <tr>\n",
       "      <th>forecast_price_energy_p2</th>\n",
       "      <td>0.782803</td>\n",
       "    </tr>\n",
       "    <tr>\n",
       "      <th>forecast_price_pow_p1</th>\n",
       "      <td>0.782803</td>\n",
       "    </tr>\n",
       "    <tr>\n",
       "      <th>has_gas</th>\n",
       "      <td>0.000000</td>\n",
       "    </tr>\n",
       "    <tr>\n",
       "      <th>imp_cons</th>\n",
       "      <td>0.000000</td>\n",
       "    </tr>\n",
       "    <tr>\n",
       "      <th>margin_gross_pow_ele</th>\n",
       "      <td>0.080765</td>\n",
       "    </tr>\n",
       "    <tr>\n",
       "      <th>margin_net_pow_ele</th>\n",
       "      <td>0.080765</td>\n",
       "    </tr>\n",
       "    <tr>\n",
       "      <th>nb_prod_act</th>\n",
       "      <td>0.000000</td>\n",
       "    </tr>\n",
       "    <tr>\n",
       "      <th>net_margin</th>\n",
       "      <td>0.093191</td>\n",
       "    </tr>\n",
       "    <tr>\n",
       "      <th>num_years_antig</th>\n",
       "      <td>0.000000</td>\n",
       "    </tr>\n",
       "    <tr>\n",
       "      <th>origin_up</th>\n",
       "      <td>0.540507</td>\n",
       "    </tr>\n",
       "    <tr>\n",
       "      <th>pow_max</th>\n",
       "      <td>0.018638</td>\n",
       "    </tr>\n",
       "  </tbody>\n",
       "</table>\n",
       "</div>"
      ],
      "text/plain": [
       "                          Missing Value (%) \n",
       "id                                  0.000000\n",
       "activity_new                       59.300447\n",
       "channel_sales                      26.205268\n",
       "cons_12m                            0.000000\n",
       "cons_gas_12m                        0.000000\n",
       "cons_last_month                     0.000000\n",
       "date_activ                          0.000000\n",
       "date_end                            0.012425\n",
       "date_modif_prod                     0.975398\n",
       "date_renewal                        0.248509\n",
       "forecast_cons_12m                   0.000000\n",
       "forecast_cons_year                  0.000000\n",
       "forecast_discount_energy            0.782803\n",
       "forecast_meter_rent_12m             0.000000\n",
       "forecast_price_energy_p1            0.782803\n",
       "forecast_price_energy_p2            0.782803\n",
       "forecast_price_pow_p1               0.782803\n",
       "has_gas                             0.000000\n",
       "imp_cons                            0.000000\n",
       "margin_gross_pow_ele                0.080765\n",
       "margin_net_pow_ele                  0.080765\n",
       "nb_prod_act                         0.000000\n",
       "net_margin                          0.093191\n",
       "num_years_antig                     0.000000\n",
       "origin_up                           0.540507\n",
       "pow_max                             0.018638"
      ]
     },
     "execution_count": 55,
     "metadata": {},
     "output_type": "execute_result"
    }
   ],
   "source": [
    "pd.DataFrame({\"Missing Value (%) \":df1.isnull().sum()/len(df1.index)*100})"
   ]
  },
  {
   "cell_type": "code",
   "execution_count": 56,
   "id": "5bed70b4",
   "metadata": {},
   "outputs": [
    {
     "data": {
      "text/plain": [
       "id               object\n",
       "price_date       object\n",
       "price_p1_var    float64\n",
       "price_p2_var    float64\n",
       "price_p3_var    float64\n",
       "price_p1_fix    float64\n",
       "price_p2_fix    float64\n",
       "price_p3_fix    float64\n",
       "dtype: object"
      ]
     },
     "execution_count": 56,
     "metadata": {},
     "output_type": "execute_result"
    }
   ],
   "source": [
    "df2.dtypes"
   ]
  },
  {
   "cell_type": "code",
   "execution_count": 57,
   "id": "9853c78a",
   "metadata": {},
   "outputs": [
    {
     "data": {
      "text/html": [
       "<div>\n",
       "<style scoped>\n",
       "    .dataframe tbody tr th:only-of-type {\n",
       "        vertical-align: middle;\n",
       "    }\n",
       "\n",
       "    .dataframe tbody tr th {\n",
       "        vertical-align: top;\n",
       "    }\n",
       "\n",
       "    .dataframe thead th {\n",
       "        text-align: right;\n",
       "    }\n",
       "</style>\n",
       "<table border=\"1\" class=\"dataframe\">\n",
       "  <thead>\n",
       "    <tr style=\"text-align: right;\">\n",
       "      <th></th>\n",
       "      <th>Missing Value (%)</th>\n",
       "    </tr>\n",
       "  </thead>\n",
       "  <tbody>\n",
       "    <tr>\n",
       "      <th>id</th>\n",
       "      <td>0.000000</td>\n",
       "    </tr>\n",
       "    <tr>\n",
       "      <th>price_date</th>\n",
       "      <td>0.000000</td>\n",
       "    </tr>\n",
       "    <tr>\n",
       "      <th>price_p1_var</th>\n",
       "      <td>0.704138</td>\n",
       "    </tr>\n",
       "    <tr>\n",
       "      <th>price_p2_var</th>\n",
       "      <td>0.704138</td>\n",
       "    </tr>\n",
       "    <tr>\n",
       "      <th>price_p3_var</th>\n",
       "      <td>0.704138</td>\n",
       "    </tr>\n",
       "    <tr>\n",
       "      <th>price_p1_fix</th>\n",
       "      <td>0.704138</td>\n",
       "    </tr>\n",
       "    <tr>\n",
       "      <th>price_p2_fix</th>\n",
       "      <td>0.704138</td>\n",
       "    </tr>\n",
       "    <tr>\n",
       "      <th>price_p3_fix</th>\n",
       "      <td>0.704138</td>\n",
       "    </tr>\n",
       "  </tbody>\n",
       "</table>\n",
       "</div>"
      ],
      "text/plain": [
       "              Missing Value (%) \n",
       "id                      0.000000\n",
       "price_date              0.000000\n",
       "price_p1_var            0.704138\n",
       "price_p2_var            0.704138\n",
       "price_p3_var            0.704138\n",
       "price_p1_fix            0.704138\n",
       "price_p2_fix            0.704138\n",
       "price_p3_fix            0.704138"
      ]
     },
     "execution_count": 57,
     "metadata": {},
     "output_type": "execute_result"
    }
   ],
   "source": [
    "pd.DataFrame({\"Missing Value (%) \":df2.isnull().sum()/len(df2.index)*100})"
   ]
  },
  {
   "cell_type": "code",
   "execution_count": 58,
   "id": "75a6cf46",
   "metadata": {},
   "outputs": [],
   "source": [
    "df1.loc[df1[\"date_modif_prod\"].isnull(),\"date_modif_prod\"] = df1[\"date_modif_prod\"].value_counts().index[0]\n",
    "df1.loc[df1[\"date_end\"].isnull(),\"date_end\"] = df1[\"date_end\"].value_counts().index[0]\n",
    "df1.loc[df1[\"date_renewal\"].isnull(),\"date_renewal\"] = df1[\"date_renewal\"].value_counts().index[0]\n"
   ]
  },
  {
   "cell_type": "code",
   "execution_count": 59,
   "id": "fe790865",
   "metadata": {},
   "outputs": [],
   "source": [
    "df2.loc[df2[\"price_p1_var\"].isnull(),\"price_p1_var\"] = df2[\"price_p1_var\"].median()\n",
    "df2.loc[df2[\"price_p2_var\"].isnull(),\"price_p2_var\"] = df2[\"price_p2_var\"].median()\n",
    "df2.loc[df2[\"price_p3_var\"].isnull(),\"price_p3_var\"] = df2[\"price_p3_var\"].median()\n",
    "df2.loc[df2[\"price_p1_fix\"].isnull(),\"price_p1_fix\"] = df2[\"price_p1_fix\"].median()\n",
    "df2.loc[df2[\"price_p2_fix\"].isnull(),\"price_p2_fix\"] = df2[\"price_p2_fix\"].median()\n",
    "df2.loc[df2[\"price_p3_fix\"].isnull(),\"price_p3_fix\"] = df2[\"price_p3_fix\"].median()"
   ]
  },
  {
   "cell_type": "code",
   "execution_count": 60,
   "id": "0e8476d5",
   "metadata": {},
   "outputs": [
    {
     "data": {
      "text/html": [
       "<div>\n",
       "<style scoped>\n",
       "    .dataframe tbody tr th:only-of-type {\n",
       "        vertical-align: middle;\n",
       "    }\n",
       "\n",
       "    .dataframe tbody tr th {\n",
       "        vertical-align: top;\n",
       "    }\n",
       "\n",
       "    .dataframe thead th {\n",
       "        text-align: right;\n",
       "    }\n",
       "</style>\n",
       "<table border=\"1\" class=\"dataframe\">\n",
       "  <thead>\n",
       "    <tr style=\"text-align: right;\">\n",
       "      <th></th>\n",
       "      <th>Missing Value (%)</th>\n",
       "    </tr>\n",
       "  </thead>\n",
       "  <tbody>\n",
       "    <tr>\n",
       "      <th>id</th>\n",
       "      <td>0.000000</td>\n",
       "    </tr>\n",
       "    <tr>\n",
       "      <th>activity_new</th>\n",
       "      <td>59.300447</td>\n",
       "    </tr>\n",
       "    <tr>\n",
       "      <th>channel_sales</th>\n",
       "      <td>26.205268</td>\n",
       "    </tr>\n",
       "    <tr>\n",
       "      <th>cons_12m</th>\n",
       "      <td>0.000000</td>\n",
       "    </tr>\n",
       "    <tr>\n",
       "      <th>cons_gas_12m</th>\n",
       "      <td>0.000000</td>\n",
       "    </tr>\n",
       "    <tr>\n",
       "      <th>cons_last_month</th>\n",
       "      <td>0.000000</td>\n",
       "    </tr>\n",
       "    <tr>\n",
       "      <th>date_activ</th>\n",
       "      <td>0.000000</td>\n",
       "    </tr>\n",
       "    <tr>\n",
       "      <th>date_end</th>\n",
       "      <td>0.000000</td>\n",
       "    </tr>\n",
       "    <tr>\n",
       "      <th>date_modif_prod</th>\n",
       "      <td>0.000000</td>\n",
       "    </tr>\n",
       "    <tr>\n",
       "      <th>date_renewal</th>\n",
       "      <td>0.000000</td>\n",
       "    </tr>\n",
       "    <tr>\n",
       "      <th>forecast_cons_12m</th>\n",
       "      <td>0.000000</td>\n",
       "    </tr>\n",
       "    <tr>\n",
       "      <th>forecast_cons_year</th>\n",
       "      <td>0.000000</td>\n",
       "    </tr>\n",
       "    <tr>\n",
       "      <th>forecast_discount_energy</th>\n",
       "      <td>0.782803</td>\n",
       "    </tr>\n",
       "    <tr>\n",
       "      <th>forecast_meter_rent_12m</th>\n",
       "      <td>0.000000</td>\n",
       "    </tr>\n",
       "    <tr>\n",
       "      <th>forecast_price_energy_p1</th>\n",
       "      <td>0.782803</td>\n",
       "    </tr>\n",
       "    <tr>\n",
       "      <th>forecast_price_energy_p2</th>\n",
       "      <td>0.782803</td>\n",
       "    </tr>\n",
       "    <tr>\n",
       "      <th>forecast_price_pow_p1</th>\n",
       "      <td>0.782803</td>\n",
       "    </tr>\n",
       "    <tr>\n",
       "      <th>has_gas</th>\n",
       "      <td>0.000000</td>\n",
       "    </tr>\n",
       "    <tr>\n",
       "      <th>imp_cons</th>\n",
       "      <td>0.000000</td>\n",
       "    </tr>\n",
       "    <tr>\n",
       "      <th>margin_gross_pow_ele</th>\n",
       "      <td>0.080765</td>\n",
       "    </tr>\n",
       "    <tr>\n",
       "      <th>margin_net_pow_ele</th>\n",
       "      <td>0.080765</td>\n",
       "    </tr>\n",
       "    <tr>\n",
       "      <th>nb_prod_act</th>\n",
       "      <td>0.000000</td>\n",
       "    </tr>\n",
       "    <tr>\n",
       "      <th>net_margin</th>\n",
       "      <td>0.093191</td>\n",
       "    </tr>\n",
       "    <tr>\n",
       "      <th>num_years_antig</th>\n",
       "      <td>0.000000</td>\n",
       "    </tr>\n",
       "    <tr>\n",
       "      <th>origin_up</th>\n",
       "      <td>0.540507</td>\n",
       "    </tr>\n",
       "    <tr>\n",
       "      <th>pow_max</th>\n",
       "      <td>0.018638</td>\n",
       "    </tr>\n",
       "  </tbody>\n",
       "</table>\n",
       "</div>"
      ],
      "text/plain": [
       "                          Missing Value (%) \n",
       "id                                  0.000000\n",
       "activity_new                       59.300447\n",
       "channel_sales                      26.205268\n",
       "cons_12m                            0.000000\n",
       "cons_gas_12m                        0.000000\n",
       "cons_last_month                     0.000000\n",
       "date_activ                          0.000000\n",
       "date_end                            0.000000\n",
       "date_modif_prod                     0.000000\n",
       "date_renewal                        0.000000\n",
       "forecast_cons_12m                   0.000000\n",
       "forecast_cons_year                  0.000000\n",
       "forecast_discount_energy            0.782803\n",
       "forecast_meter_rent_12m             0.000000\n",
       "forecast_price_energy_p1            0.782803\n",
       "forecast_price_energy_p2            0.782803\n",
       "forecast_price_pow_p1               0.782803\n",
       "has_gas                             0.000000\n",
       "imp_cons                            0.000000\n",
       "margin_gross_pow_ele                0.080765\n",
       "margin_net_pow_ele                  0.080765\n",
       "nb_prod_act                         0.000000\n",
       "net_margin                          0.093191\n",
       "num_years_antig                     0.000000\n",
       "origin_up                           0.540507\n",
       "pow_max                             0.018638"
      ]
     },
     "execution_count": 60,
     "metadata": {},
     "output_type": "execute_result"
    }
   ],
   "source": [
    "pd.DataFrame({\"Missing Value (%) \":df1.isnull().sum()/len(df1.index)*100})"
   ]
  },
  {
   "cell_type": "code",
   "execution_count": 61,
   "id": "a75de93b",
   "metadata": {},
   "outputs": [],
   "source": [
    "df2.loc[df2[\"price_p1_fix\"] < 0,\"price_p1_fix\"] = df2[\"price_p1_fix\"].median()\n",
    "df2.loc[df2[\"price_p2_fix\"] < 0,\"price_p2_fix\"] = df2[\"price_p2_fix\"].median()\n",
    "df2.loc[df2[\"price_p3_fix\"] < 0,\"price_p3_fix\"] = df2[\"price_p3_fix\"].median()"
   ]
  },
  {
   "cell_type": "code",
   "execution_count": 62,
   "id": "456c9ce8",
   "metadata": {},
   "outputs": [
    {
     "data": {
      "text/html": [
       "<div>\n",
       "<style scoped>\n",
       "    .dataframe tbody tr th:only-of-type {\n",
       "        vertical-align: middle;\n",
       "    }\n",
       "\n",
       "    .dataframe tbody tr th {\n",
       "        vertical-align: top;\n",
       "    }\n",
       "\n",
       "    .dataframe thead th {\n",
       "        text-align: right;\n",
       "    }\n",
       "</style>\n",
       "<table border=\"1\" class=\"dataframe\">\n",
       "  <thead>\n",
       "    <tr style=\"text-align: right;\">\n",
       "      <th></th>\n",
       "      <th>Missing Value (%)</th>\n",
       "    </tr>\n",
       "  </thead>\n",
       "  <tbody>\n",
       "    <tr>\n",
       "      <th>id</th>\n",
       "      <td>0.0</td>\n",
       "    </tr>\n",
       "    <tr>\n",
       "      <th>price_date</th>\n",
       "      <td>0.0</td>\n",
       "    </tr>\n",
       "    <tr>\n",
       "      <th>price_p1_var</th>\n",
       "      <td>0.0</td>\n",
       "    </tr>\n",
       "    <tr>\n",
       "      <th>price_p2_var</th>\n",
       "      <td>0.0</td>\n",
       "    </tr>\n",
       "    <tr>\n",
       "      <th>price_p3_var</th>\n",
       "      <td>0.0</td>\n",
       "    </tr>\n",
       "    <tr>\n",
       "      <th>price_p1_fix</th>\n",
       "      <td>0.0</td>\n",
       "    </tr>\n",
       "    <tr>\n",
       "      <th>price_p2_fix</th>\n",
       "      <td>0.0</td>\n",
       "    </tr>\n",
       "    <tr>\n",
       "      <th>price_p3_fix</th>\n",
       "      <td>0.0</td>\n",
       "    </tr>\n",
       "  </tbody>\n",
       "</table>\n",
       "</div>"
      ],
      "text/plain": [
       "              Missing Value (%) \n",
       "id                           0.0\n",
       "price_date                   0.0\n",
       "price_p1_var                 0.0\n",
       "price_p2_var                 0.0\n",
       "price_p3_var                 0.0\n",
       "price_p1_fix                 0.0\n",
       "price_p2_fix                 0.0\n",
       "price_p3_fix                 0.0"
      ]
     },
     "execution_count": 62,
     "metadata": {},
     "output_type": "execute_result"
    }
   ],
   "source": [
    "pd.DataFrame({\"Missing Value (%) \":df2.isnull().sum()/len(df2.index)*100})"
   ]
  },
  {
   "cell_type": "code",
   "execution_count": 63,
   "id": "67b838a9",
   "metadata": {},
   "outputs": [],
   "source": [
    "df1[\"date_activ\"] = pd.to_datetime(df1[\"date_activ\"], format='%Y-%m-%d')\n",
    "df1[\"date_end\"] = pd.to_datetime(df1[\"date_end\"], format='%Y-%m-%d')\n",
    "df1[\"date_modif_prod\"] = pd.to_datetime(df1[\"date_modif_prod\"], format='%Y-%m-%d')\n",
    "df1[\"date_renewal\"] = pd.to_datetime(df1[\"date_renewal\"], format='%Y-%m-%d')\n"
   ]
  },
  {
   "cell_type": "code",
   "execution_count": 64,
   "id": "1e60234e",
   "metadata": {},
   "outputs": [],
   "source": [
    "df2[\"price_date\"] = pd.to_datetime(df2[\"price_date\"], format='%Y-%m-%d')"
   ]
  },
  {
   "cell_type": "code",
   "execution_count": 65,
   "id": "da974a7d",
   "metadata": {},
   "outputs": [
    {
     "data": {
      "text/plain": [
       "id                                  object\n",
       "activity_new                        object\n",
       "channel_sales                       object\n",
       "cons_12m                             int64\n",
       "cons_gas_12m                         int64\n",
       "cons_last_month                      int64\n",
       "date_activ                  datetime64[ns]\n",
       "date_end                    datetime64[ns]\n",
       "date_modif_prod             datetime64[ns]\n",
       "date_renewal                datetime64[ns]\n",
       "forecast_cons_12m                  float64\n",
       "forecast_cons_year                   int64\n",
       "forecast_discount_energy           float64\n",
       "forecast_meter_rent_12m            float64\n",
       "forecast_price_energy_p1           float64\n",
       "forecast_price_energy_p2           float64\n",
       "forecast_price_pow_p1              float64\n",
       "has_gas                             object\n",
       "imp_cons                           float64\n",
       "margin_gross_pow_ele               float64\n",
       "margin_net_pow_ele                 float64\n",
       "nb_prod_act                          int64\n",
       "net_margin                         float64\n",
       "num_years_antig                      int64\n",
       "origin_up                           object\n",
       "pow_max                            float64\n",
       "dtype: object"
      ]
     },
     "execution_count": 65,
     "metadata": {},
     "output_type": "execute_result"
    }
   ],
   "source": [
    "df1.dtypes"
   ]
  },
  {
   "cell_type": "code",
   "execution_count": 66,
   "id": "3cb9071d",
   "metadata": {},
   "outputs": [
    {
     "data": {
      "text/plain": [
       "id                      object\n",
       "price_date      datetime64[ns]\n",
       "price_p1_var           float64\n",
       "price_p2_var           float64\n",
       "price_p3_var           float64\n",
       "price_p1_fix           float64\n",
       "price_p2_fix           float64\n",
       "price_p3_fix           float64\n",
       "dtype: object"
      ]
     },
     "execution_count": 66,
     "metadata": {},
     "output_type": "execute_result"
    }
   ],
   "source": [
    "df2.dtypes"
   ]
  },
  {
   "cell_type": "code",
   "execution_count": 75,
   "id": "aeb4a658",
   "metadata": {},
   "outputs": [
    {
     "data": {
      "text/html": [
       "<div>\n",
       "<style scoped>\n",
       "    .dataframe tbody tr th:only-of-type {\n",
       "        vertical-align: middle;\n",
       "    }\n",
       "\n",
       "    .dataframe tbody tr th {\n",
       "        vertical-align: top;\n",
       "    }\n",
       "\n",
       "    .dataframe thead th {\n",
       "        text-align: right;\n",
       "    }\n",
       "</style>\n",
       "<table border=\"1\" class=\"dataframe\">\n",
       "  <thead>\n",
       "    <tr style=\"text-align: right;\">\n",
       "      <th></th>\n",
       "      <th>Missing Value (%)</th>\n",
       "    </tr>\n",
       "  </thead>\n",
       "  <tbody>\n",
       "    <tr>\n",
       "      <th>id</th>\n",
       "      <td>0.000000</td>\n",
       "    </tr>\n",
       "    <tr>\n",
       "      <th>activity_new</th>\n",
       "      <td>59.300447</td>\n",
       "    </tr>\n",
       "    <tr>\n",
       "      <th>channel_sales</th>\n",
       "      <td>26.205268</td>\n",
       "    </tr>\n",
       "    <tr>\n",
       "      <th>cons_12m</th>\n",
       "      <td>0.000000</td>\n",
       "    </tr>\n",
       "    <tr>\n",
       "      <th>cons_gas_12m</th>\n",
       "      <td>0.000000</td>\n",
       "    </tr>\n",
       "    <tr>\n",
       "      <th>cons_last_month</th>\n",
       "      <td>0.000000</td>\n",
       "    </tr>\n",
       "    <tr>\n",
       "      <th>date_activ</th>\n",
       "      <td>0.000000</td>\n",
       "    </tr>\n",
       "    <tr>\n",
       "      <th>date_end</th>\n",
       "      <td>0.000000</td>\n",
       "    </tr>\n",
       "    <tr>\n",
       "      <th>date_modif_prod</th>\n",
       "      <td>0.000000</td>\n",
       "    </tr>\n",
       "    <tr>\n",
       "      <th>date_renewal</th>\n",
       "      <td>0.000000</td>\n",
       "    </tr>\n",
       "    <tr>\n",
       "      <th>forecast_cons_12m</th>\n",
       "      <td>0.000000</td>\n",
       "    </tr>\n",
       "    <tr>\n",
       "      <th>forecast_cons_year</th>\n",
       "      <td>0.000000</td>\n",
       "    </tr>\n",
       "    <tr>\n",
       "      <th>forecast_discount_energy</th>\n",
       "      <td>0.000000</td>\n",
       "    </tr>\n",
       "    <tr>\n",
       "      <th>forecast_meter_rent_12m</th>\n",
       "      <td>0.000000</td>\n",
       "    </tr>\n",
       "    <tr>\n",
       "      <th>forecast_price_energy_p1</th>\n",
       "      <td>0.000000</td>\n",
       "    </tr>\n",
       "    <tr>\n",
       "      <th>forecast_price_energy_p2</th>\n",
       "      <td>0.000000</td>\n",
       "    </tr>\n",
       "    <tr>\n",
       "      <th>forecast_price_pow_p1</th>\n",
       "      <td>0.000000</td>\n",
       "    </tr>\n",
       "    <tr>\n",
       "      <th>has_gas</th>\n",
       "      <td>0.000000</td>\n",
       "    </tr>\n",
       "    <tr>\n",
       "      <th>imp_cons</th>\n",
       "      <td>0.000000</td>\n",
       "    </tr>\n",
       "    <tr>\n",
       "      <th>margin_gross_pow_ele</th>\n",
       "      <td>0.080765</td>\n",
       "    </tr>\n",
       "    <tr>\n",
       "      <th>margin_net_pow_ele</th>\n",
       "      <td>0.080765</td>\n",
       "    </tr>\n",
       "    <tr>\n",
       "      <th>nb_prod_act</th>\n",
       "      <td>0.000000</td>\n",
       "    </tr>\n",
       "    <tr>\n",
       "      <th>net_margin</th>\n",
       "      <td>0.093191</td>\n",
       "    </tr>\n",
       "    <tr>\n",
       "      <th>num_years_antig</th>\n",
       "      <td>0.000000</td>\n",
       "    </tr>\n",
       "    <tr>\n",
       "      <th>origin_up</th>\n",
       "      <td>0.540507</td>\n",
       "    </tr>\n",
       "    <tr>\n",
       "      <th>pow_max</th>\n",
       "      <td>0.018638</td>\n",
       "    </tr>\n",
       "  </tbody>\n",
       "</table>\n",
       "</div>"
      ],
      "text/plain": [
       "                          Missing Value (%) \n",
       "id                                  0.000000\n",
       "activity_new                       59.300447\n",
       "channel_sales                      26.205268\n",
       "cons_12m                            0.000000\n",
       "cons_gas_12m                        0.000000\n",
       "cons_last_month                     0.000000\n",
       "date_activ                          0.000000\n",
       "date_end                            0.000000\n",
       "date_modif_prod                     0.000000\n",
       "date_renewal                        0.000000\n",
       "forecast_cons_12m                   0.000000\n",
       "forecast_cons_year                  0.000000\n",
       "forecast_discount_energy            0.000000\n",
       "forecast_meter_rent_12m             0.000000\n",
       "forecast_price_energy_p1            0.000000\n",
       "forecast_price_energy_p2            0.000000\n",
       "forecast_price_pow_p1               0.000000\n",
       "has_gas                             0.000000\n",
       "imp_cons                            0.000000\n",
       "margin_gross_pow_ele                0.080765\n",
       "margin_net_pow_ele                  0.080765\n",
       "nb_prod_act                         0.000000\n",
       "net_margin                          0.093191\n",
       "num_years_antig                     0.000000\n",
       "origin_up                           0.540507\n",
       "pow_max                             0.018638"
      ]
     },
     "execution_count": 75,
     "metadata": {},
     "output_type": "execute_result"
    }
   ],
   "source": [
    "pd.DataFrame({\"Missing Value (%) \":df1.isnull().sum()/len(df1.index)*100})"
   ]
  },
  {
   "cell_type": "code",
   "execution_count": null,
   "id": "e93e0d7c",
   "metadata": {},
   "outputs": [],
   "source": []
  },
  {
   "cell_type": "code",
   "execution_count": 70,
   "id": "9e1cc096",
   "metadata": {},
   "outputs": [
    {
     "data": {
      "text/plain": [
       "Index(['id', 'activity_new', 'channel_sales', 'cons_12m', 'cons_gas_12m',\n",
       "       'cons_last_month', 'date_activ', 'date_end', 'date_modif_prod',\n",
       "       'date_renewal', 'forecast_cons_12m', 'forecast_cons_year',\n",
       "       'forecast_discount_energy', 'forecast_meter_rent_12m',\n",
       "       'forecast_price_energy_p1', 'forecast_price_energy_p2',\n",
       "       'forecast_price_pow_p1', 'has_gas', 'imp_cons', 'margin_gross_pow_ele',\n",
       "       'margin_net_pow_ele', 'nb_prod_act', 'net_margin', 'num_years_antig',\n",
       "       'origin_up', 'pow_max'],\n",
       "      dtype='object')"
      ]
     },
     "execution_count": 70,
     "metadata": {},
     "output_type": "execute_result"
    }
   ],
   "source": [
    "df1.columns"
   ]
  },
  {
   "cell_type": "code",
   "execution_count": 74,
   "id": "3d6a6cc1",
   "metadata": {},
   "outputs": [],
   "source": [
    "df1.loc[df1[\"forecast_price_energy_p2\"].isnull(),\"forecast_price_energy_p2\"] = df1[\"forecast_price_energy_p2\"].median()\n",
    "df1.loc[df1[\"forecast_price_energy_p1\"].isnull(),\"forecast_price_energy_p1\"] = df1[\"forecast_price_energy_p1\"].median()\n",
    "df1.loc[df1[\"forecast_price_pow_p1\"].isnull(),\"forecast_price_pow_p1\"] = df1[\"forecast_price_pow_p1\"].median()\n",
    "df1.loc[df1[\"forecast_discount_energy\"].isnull(),\"forecast_discount_energy\"] = df1[\"forecast_discount_energy\"].median()"
   ]
  },
  {
   "cell_type": "code",
   "execution_count": null,
   "id": "ab15d07e",
   "metadata": {},
   "outputs": [],
   "source": []
  },
  {
   "cell_type": "code",
   "execution_count": null,
   "id": "11bf9144",
   "metadata": {},
   "outputs": [],
   "source": []
  },
  {
   "cell_type": "code",
   "execution_count": null,
   "id": "f501fd2f",
   "metadata": {},
   "outputs": [],
   "source": []
  },
  {
   "cell_type": "code",
   "execution_count": null,
   "id": "d8d0d7c9",
   "metadata": {},
   "outputs": [],
   "source": []
  },
  {
   "cell_type": "code",
   "execution_count": null,
   "id": "705f0893",
   "metadata": {},
   "outputs": [],
   "source": []
  },
  {
   "cell_type": "code",
   "execution_count": 76,
   "id": "79683f6f",
   "metadata": {},
   "outputs": [],
   "source": [
    "df1.to_csv(r'C:\\Users\\juhia\\New folder\\Desktop\\Groups\\Proj_Data\\BCG\\df1_clean')"
   ]
  },
  {
   "cell_type": "code",
   "execution_count": 77,
   "id": "37ac2a2d",
   "metadata": {},
   "outputs": [],
   "source": [
    "df2.to_csv(r'C:\\Users\\juhia\\New folder\\Desktop\\Groups\\Proj_Data\\BCG\\df2_clean')"
   ]
  },
  {
   "cell_type": "code",
   "execution_count": null,
   "id": "64c2aa66",
   "metadata": {},
   "outputs": [],
   "source": []
  }
 ],
 "metadata": {
  "kernelspec": {
   "display_name": "Python 3",
   "language": "python",
   "name": "python3"
  },
  "language_info": {
   "codemirror_mode": {
    "name": "ipython",
    "version": 3
   },
   "file_extension": ".py",
   "mimetype": "text/x-python",
   "name": "python",
   "nbconvert_exporter": "python",
   "pygments_lexer": "ipython3",
   "version": "3.8.8"
  }
 },
 "nbformat": 4,
 "nbformat_minor": 5
}
